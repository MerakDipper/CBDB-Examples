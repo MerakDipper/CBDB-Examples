{
  "nbformat": 4,
  "nbformat_minor": 0,
  "metadata": {
    "colab": {
      "name": "CBDB Examples.ipynb",
      "provenance": [],
      "collapsed_sections": []
    },
    "kernelspec": {
      "name": "python3",
      "display_name": "Python 3"
    },
    "language_info": {
      "name": "python"
    }
  },
  "cells": [
    {
      "cell_type": "markdown",
      "metadata": {
        "id": "b3I4jin-c1-d"
      },
      "source": [
        "### Table of Contents 目录\n",
        "\n",
        "* [安装数据及建立环境](#chapter1)\n",
        "* [创建函数](#chapter2)\n",
        "    * [根据姓+字+朝代（optional）查询人物](#section_2_1)\n",
        "    * [根据姓+官职+朝代（optional）查询人物](#section_2_2)\n",
        "* [调用函数](#chapter3)\n",
        "    * [根据姓+字查询人物](#section_3_1)\n",
        "    * [根据姓+字+朝代查询人物](#section_3_2)\n",
        "    * [根据姓+官职查询人物](#section_3_3)\n",
        "    * [根据姓+官职+朝代查询人物](#section_3_4)\n",
        "\n",
        "        "
      ]
    },
    {
      "cell_type": "markdown",
      "metadata": {
        "id": "vqBcl4KTbUEp"
      },
      "source": [
        "<a name=\"chapter1\"></a>\n",
        "### 安装数据及建立环境 \n",
        "\n"
      ]
    },
    {
      "cell_type": "code",
      "metadata": {
        "colab": {
          "base_uri": "https://localhost:8080/"
        },
        "id": "hm2FaxmV76cE",
        "outputId": "31997ec3-fb5d-4ec9-e1c9-f12f37c2a3de"
      },
      "source": [
        "# Download CBDB sqlite\n",
        "!git clone https://github.com/cbdb-project/cbdb_sqlite.git"
      ],
      "execution_count": null,
      "outputs": [
        {
          "output_type": "stream",
          "text": [
            "Cloning into 'cbdb_sqlite'...\n",
            "remote: Enumerating objects: 12, done.\u001b[K\n",
            "remote: Total 12 (delta 0), reused 0 (delta 0), pack-reused 12\u001b[K\n",
            "Unpacking objects: 100% (12/12), done.\n"
          ],
          "name": "stdout"
        }
      ]
    },
    {
      "cell_type": "code",
      "metadata": {
        "colab": {
          "base_uri": "https://localhost:8080/"
        },
        "id": "-4I0t_Qq8wPC",
        "outputId": "b8b5786c-2974-42e7-f2ad-76fcf61b8bea"
      },
      "source": [
        "# Explode cbdb_20201110.7z\n",
        "!pip install pyunpack\n",
        "!pip install patool\n",
        "from pyunpack import Archive\n",
        "Archive('./cbdb_sqlite/cbdb_20201110.7z').extractall(\".\")"
      ],
      "execution_count": null,
      "outputs": [
        {
          "output_type": "stream",
          "text": [
            "Collecting pyunpack\n",
            "  Downloading https://files.pythonhosted.org/packages/83/29/020436b1d8e96e5f26fa282b9c3c13a3b456a36b9ea2edc87c5fed008369/pyunpack-0.2.2-py2.py3-none-any.whl\n",
            "Collecting entrypoint2\n",
            "  Downloading https://files.pythonhosted.org/packages/8a/b0/8ef4b1d8be02448d164c52466530059d7f57218655d21309a0c4236d7454/entrypoint2-0.2.4-py3-none-any.whl\n",
            "Collecting easyprocess\n",
            "  Downloading https://files.pythonhosted.org/packages/48/3c/75573613641c90c6d094059ac28adb748560d99bd27ee6f80cce398f404e/EasyProcess-0.3-py2.py3-none-any.whl\n",
            "Installing collected packages: entrypoint2, easyprocess, pyunpack\n",
            "Successfully installed easyprocess-0.3 entrypoint2-0.2.4 pyunpack-0.2.2\n",
            "Collecting patool\n",
            "\u001b[?25l  Downloading https://files.pythonhosted.org/packages/43/94/52243ddff508780dd2d8110964320ab4851134a55ab102285b46e740f76a/patool-1.12-py2.py3-none-any.whl (77kB)\n",
            "\u001b[K     |████████████████████████████████| 81kB 5.3MB/s \n",
            "\u001b[?25hInstalling collected packages: patool\n",
            "Successfully installed patool-1.12\n"
          ],
          "name": "stdout"
        }
      ]
    },
    {
      "cell_type": "code",
      "metadata": {
        "id": "SuWAk9mYAjFY"
      },
      "source": [
        "# Create connection to database\n",
        "import sqlite3\n",
        "global CONN\n",
        "CONN = sqlite3.connect(\"./cbdb_20201110.db\")"
      ],
      "execution_count": null,
      "outputs": []
    },
    {
      "cell_type": "code",
      "metadata": {
        "colab": {
          "base_uri": "https://localhost:8080/"
        },
        "id": "_1gDJWxoKK0G",
        "outputId": "3cebe69c-0c68-4f5b-cdf9-d342ff91f220"
      },
      "source": [
        "!pip install opencc"
      ],
      "execution_count": null,
      "outputs": [
        {
          "output_type": "stream",
          "text": [
            "Requirement already satisfied: opencc in /usr/local/lib/python3.7/dist-packages (1.1.2)\n"
          ],
          "name": "stdout"
        }
      ]
    },
    {
      "cell_type": "markdown",
      "metadata": {
        "id": "rKZAl7hhbwxM"
      },
      "source": [
        "<a name=\"chapter2\"></a>\n",
        "### 创造函数 \n"
      ]
    },
    {
      "cell_type": "markdown",
      "metadata": {
        "id": "7oHV1Nr7erhj"
      },
      "source": [
        "<a name=\"section_2_1\"></a>\n",
        "### 根据姓+字+朝代查询人物（optional）"
      ]
    },
    {
      "cell_type": "code",
      "metadata": {
        "id": "R8UbRiJyJFY1"
      },
      "source": [
        "# Function to search for a person based on surname and alternative name (e.g. 字)\n",
        "# Dynasty is optional. If not passed in, all results will be returned.\n",
        "import opencc\n",
        "s2t_converter = opencc.OpenCC('s2t.json')\n",
        "def get_person_by_surname_and_altname(surname, altname, dynasty=None):\n",
        "    surname = s2t_converter.convert(surname)\n",
        "    altname = s2t_converter.convert(altname)\n",
        "    if dynasty:\n",
        "      dynasty = s2t_converter.convert(dynasty)\n",
        "\n",
        "    cur = CONN.cursor()\n",
        "    if dynasty:\n",
        "      sql_statement = \"select * from (select * from BIOG_MAIN INNER JOIN ALTNAME_DATA on BIOG_MAIN.c_personid=ALTNAME_DATA.c_personid where ALTNAME_DATA.c_alt_name_chn='\" + altname + \"' and BIOG_MAIN.c_surname_chn= '\" + surname +\"') tmp_db LEFT JOIN DYNASTIES on tmp_db.c_dy=DYNASTIES.c_dy where DYNASTIES.c_dynasty_chn='\" + dynasty + \"';\"\n",
        "    else:\n",
        "      sql_statement = \"select * from BIOG_MAIN INNER JOIN ALTNAME_DATA on BIOG_MAIN.c_personid=ALTNAME_DATA.c_personid where ALTNAME_DATA.c_alt_name_chn='\" + altname + \"' and BIOG_MAIN.c_surname_chn='\" + surname + \"';\"\n",
        "    print(sql_statement)\n",
        "    cur.execute(sql_statement)\n",
        "    rows = cur.fetchall()\n",
        "    count = 0\n",
        "    for row in rows:\n",
        "      count += 1\n",
        "      print(\"Record\"+str(count)+\": \")\n",
        "      print(row)"
      ],
      "execution_count": null,
      "outputs": []
    },
    {
      "cell_type": "markdown",
      "metadata": {
        "id": "0JXYckqfcFjh"
      },
      "source": [
        "<a name=\"section_2_2\"></a>\n",
        "### 根据姓+官职+朝代（optional）查询人物"
      ]
    },
    {
      "cell_type": "code",
      "metadata": {
        "id": "gPO0vUGvKCrK"
      },
      "source": [
        "def get_person_by_surname_and_office(surname, office, dynasty=None):\n",
        "    surname = s2t_converter.convert(surname)\n",
        "    office = s2t_converter.convert(office)\n",
        "    if dynasty:\n",
        "      dynasty = s2t_converter.convert(dynasty)\n",
        "    cur = CONN.cursor()\n",
        "    if dynasty:\n",
        "      sql_statement = \"select * from (select * from (select distinct(c_personid), OFFICE_CODES.c_office_chn_alt, OFFICE_CODES.c_office_chn from POSTED_TO_OFFICE_DATA JOIN OFFICE_CODES on POSTED_TO_OFFICE_DATA.c_office_id=OFFICE_CODES.c_office_id where OFFICE_CODES.c_office_chn_alt like '%\" + office + \"%' or OFFICE_CODES.c_office_chn like '%\" + office + \"%') tmp_db LEFT JOIN BIOG_MAIN on BIOG_MAIN.c_personid=tmp_db.c_personid where BIOG_MAIN.c_surname_chn= '\" + surname +\"') tmp_db2 LEFT JOIN DYNASTIES on tmp_db2.c_dy=DYNASTIES.c_dy where DYNASTIES.c_dynasty_chn='\" + dynasty +\"';\"  \n",
        "    else:\n",
        "      sql_statement = \"select * from (select distinct(c_personid), OFFICE_CODES.c_office_chn_alt, OFFICE_CODES.c_office_chn from POSTED_TO_OFFICE_DATA JOIN OFFICE_CODES on POSTED_TO_OFFICE_DATA.c_office_id=OFFICE_CODES.c_office_id where OFFICE_CODES.c_office_chn_alt like '%\" + office + \"%' or OFFICE_CODES.c_office_chn like '%\" + office + \"%') tmp_db LEFT JOIN BIOG_MAIN on BIOG_MAIN.c_personid=tmp_db.c_personid where BIOG_MAIN.c_surname_chn= '\" + surname + \"';\"\n",
        "    print(sql_statement)\n",
        "    cur.execute(sql_statement)\n",
        "    rows = cur.fetchall()\n",
        "    count = 0\n",
        "    for row in rows:\n",
        "      count += 1\n",
        "      print(\"Record\"+str(count)+\": \")\n",
        "      print(row)"
      ],
      "execution_count": null,
      "outputs": []
    },
    {
      "cell_type": "markdown",
      "metadata": {
        "id": "bb0OPdw5cM8a"
      },
      "source": [
        "<a name=\"chapter3\"></a>\n",
        "### 调用函数 "
      ]
    },
    {
      "cell_type": "markdown",
      "metadata": {
        "id": "B6NCWBzUfOJT"
      },
      "source": [
        "<a name=\"section_3_1\"></a>\n",
        "### 根据姓+字查询人物"
      ]
    },
    {
      "cell_type": "code",
      "metadata": {
        "colab": {
          "base_uri": "https://localhost:8080/"
        },
        "id": "SMw5Be2GJIf6",
        "outputId": "b211b8c6-c576-4808-a7b3-de7a73274ad4"
      },
      "source": [
        "# Example: Get person by surname + altname\n",
        "surname = \"吕\"\n",
        "zi = \"留卿\"\n",
        "get_person_by_surname_and_altname(surname, zi)"
      ],
      "execution_count": null,
      "outputs": [
        {
          "output_type": "stream",
          "text": [
            "select * from BIOG_MAIN INNER JOIN ALTNAME_DATA on BIOG_MAIN.c_personid=ALTNAME_DATA.c_personid where ALTNAME_DATA.c_alt_name_chn='留卿' and BIOG_MAIN.c_surname_chn='呂';\n",
            "Record1: \n",
            "(14990, 20662, 'Lv Shizhang', '呂師張', None, None, 20657, 0, 0, 0, None, None, 0, None, None, None, 0, None, None, None, None, 1291, 623, 28, '至元二10八年任衢州路同知', None, 0, None, None, 'Lu9', '呂', 'Shizhang', '師張', 18, 0, 'Lu(9) Shizhang [20662] WDY, 1, 424.', 0, 0, None, None, None, None, None, None, None, None, None, None, None, None, 'TTS', '20070312', None, None, 1, 8478, 20662, 'Liuqing', '留卿', 4, 9599, '2590', None, 'load', '20110330', None, None)\n"
          ],
          "name": "stdout"
        }
      ]
    },
    {
      "cell_type": "markdown",
      "metadata": {
        "id": "4V2X20XhcR_3"
      },
      "source": [
        "<a name=\"section_3_1\"></a>\n",
        "### 根据姓+字+朝代查询人物 "
      ]
    },
    {
      "cell_type": "code",
      "metadata": {
        "colab": {
          "base_uri": "https://localhost:8080/"
        },
        "id": "rS3z1Ji6MPZM",
        "outputId": "6e1290df-73d1-4c0b-fdb1-83dc2fcc48b3"
      },
      "source": [
        "# Example: Get person by surname + altname + dynasty\n",
        "surname = \"吕\"\n",
        "zi = \"留卿\"\n",
        "dynasty = \"元\"\n",
        "get_person_by_surname_and_altname(surname, zi, dynasty)"
      ],
      "execution_count": null,
      "outputs": [
        {
          "output_type": "stream",
          "text": [
            "select * from (select * from BIOG_MAIN INNER JOIN ALTNAME_DATA on BIOG_MAIN.c_personid=ALTNAME_DATA.c_personid where ALTNAME_DATA.c_alt_name_chn='留卿' and BIOG_MAIN.c_surname_chn= '呂') tmp_db LEFT JOIN DYNASTIES on tmp_db.c_dy=DYNASTIES.c_dy where DYNASTIES.c_dynasty_chn='元';\n",
            "Record1: \n",
            "(14990, 20662, 'Lv Shizhang', '呂師張', None, None, 20657, 0, 0, 0, None, None, 0, None, None, None, 0, None, None, None, None, 1291, 623, 28, '至元二10八年任衢州路同知', None, 0, None, None, 'Lu9', '呂', 'Shizhang', '師張', 18, 0, 'Lu(9) Shizhang [20662] WDY, 1, 424.', 0, 0, None, None, None, None, None, None, None, None, None, None, None, None, 'TTS', '20070312', None, None, 1, 8478, 20662, 'Liuqing', '留卿', 4, 9599, '2590', None, 'load', '20110330', None, None, 18, 'Yuan', '元', 1234, 1367, 71)\n"
          ],
          "name": "stdout"
        }
      ]
    },
    {
      "cell_type": "markdown",
      "metadata": {
        "id": "SVhCQtS5cY-l"
      },
      "source": [
        "<a name=\"section_3_3\"></a>\n",
        "### 根据根据姓+官职查询人物"
      ]
    },
    {
      "cell_type": "code",
      "metadata": {
        "colab": {
          "base_uri": "https://localhost:8080/"
        },
        "id": "vX9Vo5OIQf4X",
        "outputId": "d4c1156b-2351-403c-aa92-918735f606d9"
      },
      "source": [
        "# Example: Get person by surname + office\n",
        "surname = \"张\"\n",
        "office = \"平章\"\n",
        "get_person_by_surname_and_office(surname, office)"
      ],
      "execution_count": null,
      "outputs": [
        {
          "output_type": "stream",
          "text": [
            "select * from (select distinct(c_personid), OFFICE_CODES.c_office_chn_alt, OFFICE_CODES.c_office_chn from POSTED_TO_OFFICE_DATA JOIN OFFICE_CODES on POSTED_TO_OFFICE_DATA.c_office_id=OFFICE_CODES.c_office_id where OFFICE_CODES.c_office_chn_alt like '%平章%' or OFFICE_CODES.c_office_chn like '%平章%') tmp_db LEFT JOIN BIOG_MAIN on BIOG_MAIN.c_personid=tmp_db.c_personid where BIOG_MAIN.c_surname_chn= '張';\n",
            "Record1: \n",
            "(183, '中書門下平章事;門下平章;同平章事;平章事', '同中書門下平章事', 182, 183, 'Zhang Qixian', '張齊賢', 943, '01', None, 0, 0, 0, None, 943, 0, None, None, 1014, 515, 7, None, 72, None, None, 0, None, None, None, 0, None, None, 'Zhang', '張', 'Qixian', '齊賢', 15, 0, \"Zhang(1) Qixian [183] His family moved to Luoyang when he was 3 because of disorder during the Five Dynasties. Zonghui's [305] and Zongjian's [3167] father, Zigao's [7171] grandfather. Father-in-law of Wang(2) Juzheng's [8145] brother, Jushan [3945]. Jushan's son-in-law was Sheng(1) Du's [8109] elder cousin Jing's [3739] son, Zunfu [3743]. Zhang(1) Zongjian was Wang(2) Shu(1)'s [1877] son-in-law. XCB, 24.4a-5a; SHY:SH, 49.5a; SS, 265.15a-18a. CB, 3, 2420-21.\\x7f\", 0, 0, None, None, None, None, None, None, None, None, None, None, None, None, 'TTS', '20070312', 'BDGLW', '20081122', 1)\n",
            "Record2: \n",
            "(200, '中書門下平章事;門下平章;同平章事;平章事', '同中書門下平章事', 199, 200, 'Zhang Zhibo', '張知白', 969, '02', None, 0, 0, 0, None, None, 0, None, None, 1028, 518, 6, None, None, None, None, 0, None, None, None, 0, None, None, 'Zhang', '張', 'Zhibo', '知白', 15, 4, \"Zhang(1) Zhibo [200] Granduncle of Fu(6) Shaojing's [7228] wife. No sons and used his nephew Zisi [3171] as heir. XCB, 63.4a, 7a, 69.1a, 70.6a; LPJ, 5.5a; SS, 310.16b; DDSL, 51.5b. CBD, 3, 2390.\\x7f\", 0, 0, None, None, None, None, None, None, None, None, None, None, None, None, 'TTS', '20070312', 'BDGLW', '20081128', 1)\n",
            "Record3: \n",
            "(279, '中書門下平章事;門下平章;同平章事;平章事', '同中書門下平章事', 278, 279, 'Zhang Shixun', '張士遜', 964, '01', None, 0, 0, 0, None, 964, 0, None, None, 1049, 524, 1, None, 86, None, None, 0, None, None, None, 0, None, None, 'Zhang', '張', 'Shixun', '士遜', 15, 4, \"Zhang(1) Shixun [279] Ancestors were Qinghe jun Zhang(1). Youzhi's [326] father. Li(2) Zhaogou's [986], Lu(1) Gongru's [1315] and Wang(2) Su's [1881] father-in-law. XCB, 68.18b-19a, 83.3a, 84.4a; Guangdong TZ, 14.21b; Song Qi, WJ, 57.15b; Du Dagui, 'shang,' 4.3b; Hu Su, WJ, 40.1a-14a. Qi has Shixun as a descedant of Wu(6) Zetian [24637]'s minister, Jianzhi [12414]. The lineage moved to Guanghua when Shixun's grandfather, Yu(6) [12422], was buried there. Yu(6)'s father, Yu(5) [12421], served under Zhao(1) Kuangning, who succeeded his father, Zhao(1) Deyin (Renming, p. 1418: not in dataset), by hereditary right as Xiangzhou (Xiangyang) liuhou. Kuangning (Renming, p. 1394: not in dataset) was enfeoffed as Chu Wang (King of Chu) in ca. 904 and at this time was the only local 'warlord' or 'military governor' who continued to remit taxes (shanggong) to the Tang court. His territory subsequently came under control of Yang(2) Xingmi [4044]. (See Renming Da cidian, p. 1394. His younger brother, Zhao(1) Kuangming (Renming, p. 1394: not in dataset), was Jingnan liu hou and in ca. 904, he became an official of the Kingdom of Shu. (Ibid.). CBD, 3, 2345-6.\\x7f\", 0, 0, None, None, None, None, None, None, None, None, None, None, None, None, 'TTS', '20070312', 'BDQKH', '20081206', 1)\n",
            "Record4: \n",
            "(3130, None, '同中書門下平章事', 2413, 3130, 'Zhang Jiuling', '張九齡', 678, '01', None, 0, 0, 0, None, 678, 361, 3, None, 740, 375, 28, None, 63, None, 718, 375, 6, '左補闕（拜命 開元6(718)）', 737, 375, 25, '荊州長史（拜命 開元25(737)）', 'Zhang', '張', 'Jiuling', '九齡', 6, 72, 'Zhang(1) Jiuling [3130] Giles, 17-18. 《唐代人物知識ベース》記其生卒年為：678 - 740.', 0, 0, None, None, None, None, None, None, None, None, None, None, None, None, 'TTS', '20070312', None, None, 0)\n",
            "Record5: \n",
            "(12419, '同鳳閣鸞台平章事', '同鳳閣鸞臺平章事', 6893, 12419, 'Zhang Jianzhi', '張柬之', 625, '01', None, 0, 0, 0, None, 625, 351, 8, None, 706, 368, 2, None, 82, None, 684, 409, 1, '天官尚書（拜命 中宗初）', 706, 368, 2, '新州司馬（拜命 神龍2(706)）', 'Zhang', '張', 'Jianzhi', '柬之', 6, 4, 'Zhang(1) Jianzhi [12419] A minister of Wu(6) Zetian [24637], who helped reestablish Tang. See his documentation for descendant, Zhang(1) Shixun [279]. Renming Da cidian, p. 944. 《唐代人物知識ベース》記其生卒年為：625 - 706.', 0, 0, None, None, None, None, None, None, None, None, None, None, None, None, 'TTS', '20070312', None, None, 0)\n",
            "Record6: \n",
            "(13633, None, '平章事', 8023, 13633, 'Zhang Xiaozhong(3)', '張孝忠', 732, '02', None, 0, 0, 0, None, 0, 0, None, None, 791, 0, None, None, 0, None, None, 0, None, None, None, 0, None, None, 'Zhang', '張', 'Xiaozhong(3)', '孝忠', 6, 6, \"Zhang(1) Xiaozhong(3) [13633] Held office as the same jiedu shi as his son Maozhao [3154]. XTS, 140.?, JTS, 141.1a; ZZTJ, 227.7319, 229.7398, 231.7433, 233.7519, 7524.From Hartwell's ACTIVITY table:782:  Apt. Yi, Ding, Cang zhou jiedu shi.784:  Added Tongping zhangshi to his titles and responsibilities.791:  Died in office as Yiding jiedu shi.(other entries for 782 & 789).\", 0, 0, None, None, None, None, None, None, None, None, None, None, None, None, 'TTS', '20070312', None, None, 0)\n",
            "Record7: \n",
            "(28670, '平章;平章政事', '平章政事', 22984, 28670, 'Zhang Shide(2)', '張士德', 1322, '01', None, 0, 0, 0, None, 1322, 0, None, None, 1357, 0, None, None, 36, None, None, 0, None, None, None, 0, None, None, 'Zhang', '張', 'Shide(2)', '士德', 18, 0, 'Zhang(1) Shide(2) [28670] WDY, 2, p. 1108.', 0, 0, None, None, None, None, None, None, None, None, None, None, None, None, 'TTS', '20070312', None, None, 0)\n",
            "Record8: \n",
            "(29000, '中書平章政事;中書平章;平章政事;中書平章軍國重事;中書省平章政事', '中書省平章政事', 23256, 29000, 'Zhang Gui(4)', '張珪', 1264, '01', None, 0, 0, 0, None, 1264, 0, None, None, 1327, 0, None, None, 64, None, 1292, 623, 29, '至元二10九年除江淮行院副使', 1322, 629, 2, '至治二年起為集賢大學士', 'Zhang', '張', 'Gui(4)', '珪', 18, 0, 'Zhang(1) Gui(4) [29000] CHECK funerary inscription. Yi ZZ (1501), 12.26b-32a. WDY, 2, pp. 1067-8.', 0, 0, None, None, None, None, None, None, None, None, None, None, None, None, 'TTS', '20070312', None, None, 1)\n",
            "Record9: \n",
            "(31407, None, '同中書門下平章事', 25828, 31407, 'Zhang Yue', '張說', 667, '01', None, 0, 0, 0, None, 667, 357, 2, None, 731, 375, 19, None, 65, None, 684, 409, 1, '兵部員外郎（拜命 中宗即位）', 729, 375, 17, '知集賢院事（拜命 開元17(729)）', 'Zhang', '張', 'Yue', '說', 6, 6, 'Zhang(1) Yue(6) [31407] Zaixiang under Ruizong and Xuanzong. Zhang Jiuling, WJ, 11.13a-14b. QTW, 221.1a-1b. Collected papers preserved in QTW. 《唐代人物知識ベース》記其生卒年為：667 - 731.', 0, 0, None, None, None, None, None, None, None, None, None, None, None, None, 'TTS', '20070312', None, None, 0)\n",
            "Record10: \n",
            "(32016, None, '同中書門下平章事', 26357, 32016, 'Zhang Jiazhen', '張嘉貞', 666, '01', None, 0, 0, 0, None, 666, 0, None, None, 729, 0, None, None, 64, None, None, 0, None, None, None, 0, None, None, 'Zhang', '張', 'Jiazhen', '嘉貞', 6, 34, 'Zhang(1) Jiazhen [32016] Zaixiang under Xuanzong. JTS, 99.3090-3093. QTW, 299.12b-13a. Literary fragments preserved in QTW.', 0, 0, None, None, None, None, None, None, None, None, None, None, None, None, 'TTS', '20070312', None, None, 0)\n",
            "Record11: \n",
            "(32019, None, '平章事', 26473, 32019, 'Zhang Hongjing', '張弘靖', 760, '01', None, 0, 0, 0, None, 760, 379, 1, None, 824, 389, 4, None, 65, None, 809, 388, 4, '中書舍人（拜命 元和4(809)）', 900, 405, 3, '監察御史（退任 光化3(900)）', 'Zhang', '張', 'Hongjing', '弘靖', 6, 34, 'Zhang(1) Hongjing [32019] Zaixiang under Xianzong. JTS, 129.3610-13. 《唐代人物知識ベース》記其生卒年為：760 - 824.', 0, 0, None, None, None, None, None, None, None, None, None, None, None, None, 'TTS', '20070312', None, None, 0)\n",
            "Record12: \n",
            "(32019, None, '同中書門下平章事', 26473, 32019, 'Zhang Hongjing', '張弘靖', 760, '01', None, 0, 0, 0, None, 760, 379, 1, None, 824, 389, 4, None, 65, None, 809, 388, 4, '中書舍人（拜命 元和4(809)）', 900, 405, 3, '監察御史（退任 光化3(900)）', 'Zhang', '張', 'Hongjing', '弘靖', 6, 34, 'Zhang(1) Hongjing [32019] Zaixiang under Xianzong. JTS, 129.3610-13. 《唐代人物知識ベース》記其生卒年為：760 - 824.', 0, 0, None, None, None, None, None, None, None, None, None, None, None, None, 'TTS', '20070312', None, None, 0)\n",
            "Record13: \n",
            "(93482, None, '同中書門下平章事', 87171, 93482, 'Zhang Ge', '張格', 868, '02', None, 0, 0, 0, None, None, 0, None, None, 927, 0, None, None, None, None, 726, 375, 14, '中書侍郎（退任 開元14(726)）', 968, 507, 1, '同平章事（拜命 乾德6）', 'Zhang', '張', 'Ge', '格', 0, 0, 'Index year algorithmically generated: Rule 2; 《唐代人物知識ベース》記其生卒年為：不明 - 927.', 0, 0, None, None, None, None, None, None, None, None, None, None, None, None, 'load', '20101014', None, None, 0)\n",
            "Record14: \n",
            "(93516, None, '平章事', 87205, 93516, 'Zhang Ce', '張策', 853, '02', None, 0, 0, 0, None, None, 0, None, None, 912, 0, None, None, None, None, 895, 404, 2, '鄭滑支使（拜命 乾寧2(895)）', 907, 407, 4, '承旨（拜命 梁太祖開平1）', 'Zhang', '張', 'Ce', '策', 0, 0, 'Index year algorithmically generated: Rule 2; 《唐代人物知識ベース》記其生卒年為：不明 - 912.', 0, 0, None, None, None, None, None, None, None, None, None, None, None, None, 'load', '20101014', None, None, 0)\n",
            "Record15: \n",
            "(93528, '同鳳閣鸞台平章事', '同鳳閣鸞臺平章事', 87217, 93528, 'Zhang Xi', '張錫', None, None, None, 0, 0, 0, None, None, 0, None, None, None, 0, None, None, None, None, 700, 423, 1, '鳳閣侍郎（拜命 久視1(700)）', 710, 371, 1, '同中書門下三品（拜命 景雲1(710)）', 'Zhang', '張', 'Xi', '錫', 77, 0, None, 0, 0, None, None, None, None, None, None, None, None, None, None, None, None, 'load', '20101014', None, None, 0)\n",
            "Record16: \n",
            "(93547, None, '同中書門下平章事', 87235, 93547, 'Zhang Jun', '張濬', 845, '02', None, 0, 0, 0, None, None, 0, None, None, 904, 407, 1, None, None, None, 877, 396, 4, '太常博士（拜命 乾符閒）', 897, 404, 4, '尚書左僕射（拜命 乾寧4(897)）', 'Zhang', '張', 'Jun', '濬', 6, 0, 'Index year algorithmically generated: Rule 2; 《唐代人物知識ベース》記其生卒年為：不明 - 904.', 0, 0, None, None, None, None, None, None, None, None, None, None, None, None, 'load', '20101014', None, None, 0)\n",
            "Record17: \n",
            "(106530, '中書平章政事;中書平章;平章政事;中書平章軍國重事;中書省平章政事', '中書省平章政事', 100234, 106530, 'Zhang Yi', '張易', None, None, None, 0, 0, 0, None, None, 0, None, None, None, 0, None, None, None, None, 1260, 622, 1, '中統元年拜燕京行省參政', 1266, 623, 3, '至元三年以中書右丞同知制國用使司事', 'Zhang', '張', 'Yi', '易', 18, 0, None, 0, 0, None, None, None, None, None, None, None, None, None, None, None, None, 'load', '20110310', None, None, 1)\n",
            "Record18: \n",
            "(106530, None, '同平章尚書省事', 100234, 106530, 'Zhang Yi', '張易', None, None, None, 0, 0, 0, None, None, 0, None, None, None, 0, None, None, None, None, 1260, 622, 1, '中統元年拜燕京行省參政', 1266, 623, 3, '至元三年以中書右丞同知制國用使司事', 'Zhang', '張', 'Yi', '易', 18, 0, None, 0, 0, None, None, None, None, None, None, None, None, None, None, None, None, 'load', '20110310', None, None, 1)\n",
            "Record19: \n",
            "(106658, '行省平章事;行省平章', '行中書省平章', 100362, 106658, 'Zhang Hui', '張惠', 1223, '01', None, 0, 0, 0, None, 1223, 0, None, None, 1285, 0, None, None, 63, None, 1260, 622, 1, '中統元年授燕京宣慰副使', 1264, 623, 1, '至元元年除山東行省參政', 'Zhang', '張', 'Hui', '惠', 18, 0, None, 0, 0, None, None, None, None, None, None, None, None, None, None, None, None, 'load', '20110310', None, None, 1)\n",
            "Record20: \n",
            "(106865, '行省平章事;行省平章', '行中書省平章', 100569, 106865, 'Zhang Shixin', '張士信', 1324, '19', None, 0, 0, 0, None, None, 0, None, None, None, 0, None, None, None, None, 1367, 0, None, 'auto-generated from date mentioned in bio', None, 0, None, None, 'Zhang', '張', 'Shixin', '士信', 18, 0, 'Index year algorithmically generated: Rule 10;', 0, 0, None, None, None, None, None, None, None, None, None, None, None, None, 'load', '20110310', None, None, 1)\n",
            "Record21: \n",
            "(106911, '中書平章政事;中書平章;平章政事;中書平章軍國重事;中書省平章政事', '中書省平章政事', 100615, 106911, 'Zhang Youliang', '張友諒', None, None, None, 0, 0, 0, None, None, 0, None, None, None, 0, None, None, None, None, 1326, 630, None, '泰定間歷戶部尚書', 1356, 636, 16, '至正10六年累官中書平章', 'Zhang', '張', 'Youliang', '友諒', 18, 0, None, 0, 0, None, None, None, None, None, None, None, None, None, None, None, None, 'load', '20110310', None, None, 1)\n",
            "Record22: \n",
            "(107154, '平章;平章政事', '平章政事', 100853, 107154, 'Zhang Qiyuan', '張啟元', None, None, None, 0, 0, 0, None, None, 0, None, None, None, 0, None, None, None, None, 1260, 622, 1, '中統元年授西京宣撫使', 1264, 623, None, '至元初陞平章政事', 'Zhang', '張', 'Qiyuan', '啟元', 18, 0, None, 0, 0, None, None, None, None, None, None, None, None, None, None, None, None, 'load', '20110310', None, None, 1)\n",
            "Record23: \n",
            "(185555, None, '同中書門下平章事', 172437, 185555, 'Zhang Yunshen', '張允伸', 785, '01', None, 0, 0, 0, None, 784, 0, None, None, 872, 0, None, None, 88, None, None, 0, None, None, None, 0, None, None, 'Zhang', '張', 'Yunshen', '允伸', 6, 0, 'cf. 補遺 8:160-161; 洛陽新獲續 483-484 cf. 唐末至宋初墓誌目錄 254', 0, 0, None, None, None, None, None, None, None, None, None, None, None, None, 'load', '20130923', None, None, 1)\n"
          ],
          "name": "stdout"
        }
      ]
    },
    {
      "cell_type": "markdown",
      "metadata": {
        "id": "wSHWGhfxceTF"
      },
      "source": [
        "<a name=\"section_3_4\"></a>\n",
        "### 根据姓+官职+朝代查询人物"
      ]
    },
    {
      "cell_type": "code",
      "metadata": {
        "colab": {
          "base_uri": "https://localhost:8080/"
        },
        "id": "Zc-ZwLmhLZU0",
        "outputId": "04476101-2303-4f36-96df-4fd6d3400029"
      },
      "source": [
        "# Example: Get person by surname + office + dynasty\n",
        "surname = \"张\"\n",
        "office = \"平章\"\n",
        "dynasty = \"唐\"\n",
        "get_person_by_surname_and_office(surname, office, dynasty)"
      ],
      "execution_count": null,
      "outputs": [
        {
          "output_type": "stream",
          "text": [
            "select * from (select * from (select distinct(c_personid), OFFICE_CODES.c_office_chn_alt, OFFICE_CODES.c_office_chn from POSTED_TO_OFFICE_DATA JOIN OFFICE_CODES on POSTED_TO_OFFICE_DATA.c_office_id=OFFICE_CODES.c_office_id where OFFICE_CODES.c_office_chn_alt like '%平章%' or OFFICE_CODES.c_office_chn like '%平章%') tmp_db LEFT JOIN BIOG_MAIN on BIOG_MAIN.c_personid=tmp_db.c_personid where BIOG_MAIN.c_surname_chn= '張') tmp_db2 LEFT JOIN DYNASTIES on tmp_db2.c_dy=DYNASTIES.c_dy where DYNASTIES.c_dynasty_chn='唐';\n",
            "Record1: \n",
            "(3130, None, '同中書門下平章事', 2413, 3130, 'Zhang Jiuling', '張九齡', 678, '01', None, 0, 0, 0, None, 678, 361, 3, None, 740, 375, 28, None, 63, None, 718, 375, 6, '左補闕（拜命 開元6(718)）', 737, 375, 25, '荊州長史（拜命 開元25(737)）', 'Zhang', '張', 'Jiuling', '九齡', 6, 72, 'Zhang(1) Jiuling [3130] Giles, 17-18. 《唐代人物知識ベース》記其生卒年為：678 - 740.', 0, 0, None, None, None, None, None, None, None, None, None, None, None, None, 'TTS', '20070312', None, None, 0, 6, 'Tang', '唐', 618, 907, 46)\n",
            "Record2: \n",
            "(12419, '同鳳閣鸞台平章事', '同鳳閣鸞臺平章事', 6893, 12419, 'Zhang Jianzhi', '張柬之', 625, '01', None, 0, 0, 0, None, 625, 351, 8, None, 706, 368, 2, None, 82, None, 684, 409, 1, '天官尚書（拜命 中宗初）', 706, 368, 2, '新州司馬（拜命 神龍2(706)）', 'Zhang', '張', 'Jianzhi', '柬之', 6, 4, 'Zhang(1) Jianzhi [12419] A minister of Wu(6) Zetian [24637], who helped reestablish Tang. See his documentation for descendant, Zhang(1) Shixun [279]. Renming Da cidian, p. 944. 《唐代人物知識ベース》記其生卒年為：625 - 706.', 0, 0, None, None, None, None, None, None, None, None, None, None, None, None, 'TTS', '20070312', None, None, 0, 6, 'Tang', '唐', 618, 907, 46)\n",
            "Record3: \n",
            "(13633, None, '平章事', 8023, 13633, 'Zhang Xiaozhong(3)', '張孝忠', 732, '02', None, 0, 0, 0, None, 0, 0, None, None, 791, 0, None, None, 0, None, None, 0, None, None, None, 0, None, None, 'Zhang', '張', 'Xiaozhong(3)', '孝忠', 6, 6, \"Zhang(1) Xiaozhong(3) [13633] Held office as the same jiedu shi as his son Maozhao [3154]. XTS, 140.?, JTS, 141.1a; ZZTJ, 227.7319, 229.7398, 231.7433, 233.7519, 7524.From Hartwell's ACTIVITY table:782:  Apt. Yi, Ding, Cang zhou jiedu shi.784:  Added Tongping zhangshi to his titles and responsibilities.791:  Died in office as Yiding jiedu shi.(other entries for 782 & 789).\", 0, 0, None, None, None, None, None, None, None, None, None, None, None, None, 'TTS', '20070312', None, None, 0, 6, 'Tang', '唐', 618, 907, 46)\n",
            "Record4: \n",
            "(31407, None, '同中書門下平章事', 25828, 31407, 'Zhang Yue', '張說', 667, '01', None, 0, 0, 0, None, 667, 357, 2, None, 731, 375, 19, None, 65, None, 684, 409, 1, '兵部員外郎（拜命 中宗即位）', 729, 375, 17, '知集賢院事（拜命 開元17(729)）', 'Zhang', '張', 'Yue', '說', 6, 6, 'Zhang(1) Yue(6) [31407] Zaixiang under Ruizong and Xuanzong. Zhang Jiuling, WJ, 11.13a-14b. QTW, 221.1a-1b. Collected papers preserved in QTW. 《唐代人物知識ベース》記其生卒年為：667 - 731.', 0, 0, None, None, None, None, None, None, None, None, None, None, None, None, 'TTS', '20070312', None, None, 0, 6, 'Tang', '唐', 618, 907, 46)\n",
            "Record5: \n",
            "(32016, None, '同中書門下平章事', 26357, 32016, 'Zhang Jiazhen', '張嘉貞', 666, '01', None, 0, 0, 0, None, 666, 0, None, None, 729, 0, None, None, 64, None, None, 0, None, None, None, 0, None, None, 'Zhang', '張', 'Jiazhen', '嘉貞', 6, 34, 'Zhang(1) Jiazhen [32016] Zaixiang under Xuanzong. JTS, 99.3090-3093. QTW, 299.12b-13a. Literary fragments preserved in QTW.', 0, 0, None, None, None, None, None, None, None, None, None, None, None, None, 'TTS', '20070312', None, None, 0, 6, 'Tang', '唐', 618, 907, 46)\n",
            "Record6: \n",
            "(32019, None, '平章事', 26473, 32019, 'Zhang Hongjing', '張弘靖', 760, '01', None, 0, 0, 0, None, 760, 379, 1, None, 824, 389, 4, None, 65, None, 809, 388, 4, '中書舍人（拜命 元和4(809)）', 900, 405, 3, '監察御史（退任 光化3(900)）', 'Zhang', '張', 'Hongjing', '弘靖', 6, 34, 'Zhang(1) Hongjing [32019] Zaixiang under Xianzong. JTS, 129.3610-13. 《唐代人物知識ベース》記其生卒年為：760 - 824.', 0, 0, None, None, None, None, None, None, None, None, None, None, None, None, 'TTS', '20070312', None, None, 0, 6, 'Tang', '唐', 618, 907, 46)\n",
            "Record7: \n",
            "(32019, None, '同中書門下平章事', 26473, 32019, 'Zhang Hongjing', '張弘靖', 760, '01', None, 0, 0, 0, None, 760, 379, 1, None, 824, 389, 4, None, 65, None, 809, 388, 4, '中書舍人（拜命 元和4(809)）', 900, 405, 3, '監察御史（退任 光化3(900)）', 'Zhang', '張', 'Hongjing', '弘靖', 6, 34, 'Zhang(1) Hongjing [32019] Zaixiang under Xianzong. JTS, 129.3610-13. 《唐代人物知識ベース》記其生卒年為：760 - 824.', 0, 0, None, None, None, None, None, None, None, None, None, None, None, None, 'TTS', '20070312', None, None, 0, 6, 'Tang', '唐', 618, 907, 46)\n",
            "Record8: \n",
            "(93547, None, '同中書門下平章事', 87235, 93547, 'Zhang Jun', '張濬', 845, '02', None, 0, 0, 0, None, None, 0, None, None, 904, 407, 1, None, None, None, 877, 396, 4, '太常博士（拜命 乾符閒）', 897, 404, 4, '尚書左僕射（拜命 乾寧4(897)）', 'Zhang', '張', 'Jun', '濬', 6, 0, 'Index year algorithmically generated: Rule 2; 《唐代人物知識ベース》記其生卒年為：不明 - 904.', 0, 0, None, None, None, None, None, None, None, None, None, None, None, None, 'load', '20101014', None, None, 0, 6, 'Tang', '唐', 618, 907, 46)\n",
            "Record9: \n",
            "(185555, None, '同中書門下平章事', 172437, 185555, 'Zhang Yunshen', '張允伸', 785, '01', None, 0, 0, 0, None, 784, 0, None, None, 872, 0, None, None, 88, None, None, 0, None, None, None, 0, None, None, 'Zhang', '張', 'Yunshen', '允伸', 6, 0, 'cf. 補遺 8:160-161; 洛陽新獲續 483-484 cf. 唐末至宋初墓誌目錄 254', 0, 0, None, None, None, None, None, None, None, None, None, None, None, None, 'load', '20130923', None, None, 1, 6, 'Tang', '唐', 618, 907, 46)\n"
          ],
          "name": "stdout"
        }
      ]
    },
    {
      "cell_type": "code",
      "metadata": {
        "id": "j8pLg9S-QWzt"
      },
      "source": [
        ""
      ],
      "execution_count": null,
      "outputs": []
    }
  ]
}