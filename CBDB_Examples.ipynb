{
  "nbformat": 4,
  "nbformat_minor": 0,
  "metadata": {
    "colab": {
      "name": "CBDB Examples.ipynb",
      "provenance": [],
      "collapsed_sections": []
    },
    "kernelspec": {
      "name": "python3",
      "display_name": "Python 3"
    },
    "language_info": {
      "name": "python"
    }
  },
  "cells": [
    {
      "cell_type": "markdown",
      "metadata": {
        "id": "b3I4jin-c1-d"
      },
      "source": [
        "### Table of Contents 目录\n",
        "\n",
        "* [安装数据及建立环境](#chapter1)\n",
        "* [创建函数](#chapter2)\n",
        "    * [根据姓+字+朝代（optional）查询人物](#section_2_1)\n",
        "    * [根据姓+官职（含俗称）+朝代（optional）查询人物](#section_2_2)\n",
        "* [调用函数](#chapter3)\n",
        "    * [根据姓+字查询人物](#section_3_1)\n",
        "    * [根据姓+字+朝代查询人物](#section_3_2)\n",
        "    * [根据姓+官职（含俗称）查询人物](#section_3_3)\n",
        "    * [根据姓+官职（含俗称）+朝代查询人物](#section_3_4)\n",
        "\n",
        "        "
      ]
    },
    {
      "cell_type": "markdown",
      "metadata": {
        "id": "vqBcl4KTbUEp"
      },
      "source": [
        "<a name=\"chapter1\"></a>\n",
        "## 安装数据及建立环境 \n",
        "\n"
      ]
    },
    {
      "cell_type": "code",
      "metadata": {
        "colab": {
          "base_uri": "https://localhost:8080/"
        },
        "id": "hm2FaxmV76cE",
        "outputId": "a7412ba6-cf3e-4c90-c01d-8cccbf1cce64"
      },
      "source": [
        "# Download CBDB sqlite\n",
        "!git clone https://github.com/cbdb-project/cbdb_sqlite.git"
      ],
      "execution_count": 2,
      "outputs": [
        {
          "output_type": "stream",
          "text": [
            "Cloning into 'cbdb_sqlite'...\n",
            "remote: Enumerating objects: 28, done.\u001b[K\n",
            "remote: Counting objects: 100% (6/6), done.\u001b[K\n",
            "remote: Compressing objects: 100% (5/5), done.\u001b[K\n",
            "remote: Total 28 (delta 1), reused 6 (delta 1), pack-reused 22\u001b[K\n",
            "Unpacking objects: 100% (28/28), done.\n"
          ],
          "name": "stdout"
        }
      ]
    },
    {
      "cell_type": "code",
      "metadata": {
        "colab": {
          "base_uri": "https://localhost:8080/"
        },
        "id": "-4I0t_Qq8wPC",
        "outputId": "f89f0023-acec-452f-e280-f1def1da3282"
      },
      "source": [
        "# Explode cbdb_20201110.7z\n",
        "!pip install pyunpack\n",
        "!pip install patool\n",
        "from pyunpack import Archive\n",
        "Archive('./cbdb_sqlite/CBDB_20210525.7z').extractall(\".\")"
      ],
      "execution_count": 3,
      "outputs": [
        {
          "output_type": "stream",
          "text": [
            "Collecting pyunpack\n",
            "  Downloading https://files.pythonhosted.org/packages/83/29/020436b1d8e96e5f26fa282b9c3c13a3b456a36b9ea2edc87c5fed008369/pyunpack-0.2.2-py2.py3-none-any.whl\n",
            "Collecting entrypoint2\n",
            "  Downloading https://files.pythonhosted.org/packages/8a/b0/8ef4b1d8be02448d164c52466530059d7f57218655d21309a0c4236d7454/entrypoint2-0.2.4-py3-none-any.whl\n",
            "Collecting easyprocess\n",
            "  Downloading https://files.pythonhosted.org/packages/48/3c/75573613641c90c6d094059ac28adb748560d99bd27ee6f80cce398f404e/EasyProcess-0.3-py2.py3-none-any.whl\n",
            "Installing collected packages: entrypoint2, easyprocess, pyunpack\n",
            "Successfully installed easyprocess-0.3 entrypoint2-0.2.4 pyunpack-0.2.2\n",
            "Collecting patool\n",
            "\u001b[?25l  Downloading https://files.pythonhosted.org/packages/43/94/52243ddff508780dd2d8110964320ab4851134a55ab102285b46e740f76a/patool-1.12-py2.py3-none-any.whl (77kB)\n",
            "\u001b[K     |████████████████████████████████| 81kB 4.1MB/s \n",
            "\u001b[?25hInstalling collected packages: patool\n",
            "Successfully installed patool-1.12\n"
          ],
          "name": "stdout"
        }
      ]
    },
    {
      "cell_type": "code",
      "metadata": {
        "id": "SuWAk9mYAjFY"
      },
      "source": [
        "# Create connection to database\n",
        "import sqlite3\n",
        "global CONN\n",
        "CONN = sqlite3.connect(\"./CBDB_20210525.db\")"
      ],
      "execution_count": 4,
      "outputs": []
    },
    {
      "cell_type": "code",
      "metadata": {
        "colab": {
          "base_uri": "https://localhost:8080/"
        },
        "id": "_1gDJWxoKK0G",
        "outputId": "82c36c89-8d93-4a47-9085-9d7686cd4937"
      },
      "source": [
        "!pip install opencc"
      ],
      "execution_count": 5,
      "outputs": [
        {
          "output_type": "stream",
          "text": [
            "Collecting opencc\n",
            "\u001b[?25l  Downloading https://files.pythonhosted.org/packages/25/a1/83402033399c7bc61482f45e186156f6c51c8ca5cf4a66f22039a586a520/OpenCC-1.1.2-cp37-cp37m-manylinux1_x86_64.whl (765kB)\n",
            "\r\u001b[K     |▍                               | 10kB 11.3MB/s eta 0:00:01\r\u001b[K     |▉                               | 20kB 13.9MB/s eta 0:00:01\r\u001b[K     |█▎                              | 30kB 16.9MB/s eta 0:00:01\r\u001b[K     |█▊                              | 40kB 19.6MB/s eta 0:00:01\r\u001b[K     |██▏                             | 51kB 10.6MB/s eta 0:00:01\r\u001b[K     |██▋                             | 61kB 8.6MB/s eta 0:00:01\r\u001b[K     |███                             | 71kB 9.4MB/s eta 0:00:01\r\u001b[K     |███▍                            | 81kB 10.1MB/s eta 0:00:01\r\u001b[K     |███▉                            | 92kB 10.9MB/s eta 0:00:01\r\u001b[K     |████▎                           | 102kB 9.4MB/s eta 0:00:01\r\u001b[K     |████▊                           | 112kB 9.4MB/s eta 0:00:01\r\u001b[K     |█████▏                          | 122kB 9.4MB/s eta 0:00:01\r\u001b[K     |█████▋                          | 133kB 9.4MB/s eta 0:00:01\r\u001b[K     |██████                          | 143kB 9.4MB/s eta 0:00:01\r\u001b[K     |██████▍                         | 153kB 9.4MB/s eta 0:00:01\r\u001b[K     |██████▉                         | 163kB 9.4MB/s eta 0:00:01\r\u001b[K     |███████▎                        | 174kB 9.4MB/s eta 0:00:01\r\u001b[K     |███████▊                        | 184kB 9.4MB/s eta 0:00:01\r\u001b[K     |████████▏                       | 194kB 9.4MB/s eta 0:00:01\r\u001b[K     |████████▋                       | 204kB 9.4MB/s eta 0:00:01\r\u001b[K     |█████████                       | 215kB 9.4MB/s eta 0:00:01\r\u001b[K     |█████████▍                      | 225kB 9.4MB/s eta 0:00:01\r\u001b[K     |█████████▉                      | 235kB 9.4MB/s eta 0:00:01\r\u001b[K     |██████████▎                     | 245kB 9.4MB/s eta 0:00:01\r\u001b[K     |██████████▊                     | 256kB 9.4MB/s eta 0:00:01\r\u001b[K     |███████████▏                    | 266kB 9.4MB/s eta 0:00:01\r\u001b[K     |███████████▌                    | 276kB 9.4MB/s eta 0:00:01\r\u001b[K     |████████████                    | 286kB 9.4MB/s eta 0:00:01\r\u001b[K     |████████████▍                   | 296kB 9.4MB/s eta 0:00:01\r\u001b[K     |████████████▉                   | 307kB 9.4MB/s eta 0:00:01\r\u001b[K     |█████████████▎                  | 317kB 9.4MB/s eta 0:00:01\r\u001b[K     |█████████████▊                  | 327kB 9.4MB/s eta 0:00:01\r\u001b[K     |██████████████▏                 | 337kB 9.4MB/s eta 0:00:01\r\u001b[K     |██████████████▌                 | 348kB 9.4MB/s eta 0:00:01\r\u001b[K     |███████████████                 | 358kB 9.4MB/s eta 0:00:01\r\u001b[K     |███████████████▍                | 368kB 9.4MB/s eta 0:00:01\r\u001b[K     |███████████████▉                | 378kB 9.4MB/s eta 0:00:01\r\u001b[K     |████████████████▎               | 389kB 9.4MB/s eta 0:00:01\r\u001b[K     |████████████████▊               | 399kB 9.4MB/s eta 0:00:01\r\u001b[K     |█████████████████▏              | 409kB 9.4MB/s eta 0:00:01\r\u001b[K     |█████████████████▌              | 419kB 9.4MB/s eta 0:00:01\r\u001b[K     |██████████████████              | 430kB 9.4MB/s eta 0:00:01\r\u001b[K     |██████████████████▍             | 440kB 9.4MB/s eta 0:00:01\r\u001b[K     |██████████████████▉             | 450kB 9.4MB/s eta 0:00:01\r\u001b[K     |███████████████████▎            | 460kB 9.4MB/s eta 0:00:01\r\u001b[K     |███████████████████▊            | 471kB 9.4MB/s eta 0:00:01\r\u001b[K     |████████████████████            | 481kB 9.4MB/s eta 0:00:01\r\u001b[K     |████████████████████▌           | 491kB 9.4MB/s eta 0:00:01\r\u001b[K     |█████████████████████           | 501kB 9.4MB/s eta 0:00:01\r\u001b[K     |█████████████████████▍          | 512kB 9.4MB/s eta 0:00:01\r\u001b[K     |█████████████████████▉          | 522kB 9.4MB/s eta 0:00:01\r\u001b[K     |██████████████████████▎         | 532kB 9.4MB/s eta 0:00:01\r\u001b[K     |██████████████████████▊         | 542kB 9.4MB/s eta 0:00:01\r\u001b[K     |███████████████████████         | 552kB 9.4MB/s eta 0:00:01\r\u001b[K     |███████████████████████▌        | 563kB 9.4MB/s eta 0:00:01\r\u001b[K     |████████████████████████        | 573kB 9.4MB/s eta 0:00:01\r\u001b[K     |████████████████████████▍       | 583kB 9.4MB/s eta 0:00:01\r\u001b[K     |████████████████████████▉       | 593kB 9.4MB/s eta 0:00:01\r\u001b[K     |█████████████████████████▎      | 604kB 9.4MB/s eta 0:00:01\r\u001b[K     |█████████████████████████▊      | 614kB 9.4MB/s eta 0:00:01\r\u001b[K     |██████████████████████████      | 624kB 9.4MB/s eta 0:00:01\r\u001b[K     |██████████████████████████▌     | 634kB 9.4MB/s eta 0:00:01\r\u001b[K     |███████████████████████████     | 645kB 9.4MB/s eta 0:00:01\r\u001b[K     |███████████████████████████▍    | 655kB 9.4MB/s eta 0:00:01\r\u001b[K     |███████████████████████████▉    | 665kB 9.4MB/s eta 0:00:01\r\u001b[K     |████████████████████████████▎   | 675kB 9.4MB/s eta 0:00:01\r\u001b[K     |████████████████████████████▋   | 686kB 9.4MB/s eta 0:00:01\r\u001b[K     |█████████████████████████████   | 696kB 9.4MB/s eta 0:00:01\r\u001b[K     |█████████████████████████████▌  | 706kB 9.4MB/s eta 0:00:01\r\u001b[K     |██████████████████████████████  | 716kB 9.4MB/s eta 0:00:01\r\u001b[K     |██████████████████████████████▍ | 727kB 9.4MB/s eta 0:00:01\r\u001b[K     |██████████████████████████████▉ | 737kB 9.4MB/s eta 0:00:01\r\u001b[K     |███████████████████████████████▎| 747kB 9.4MB/s eta 0:00:01\r\u001b[K     |███████████████████████████████▋| 757kB 9.4MB/s eta 0:00:01\r\u001b[K     |████████████████████████████████| 768kB 9.4MB/s \n",
            "\u001b[?25hInstalling collected packages: opencc\n",
            "Successfully installed opencc-1.1.2\n"
          ],
          "name": "stdout"
        }
      ]
    },
    {
      "cell_type": "markdown",
      "metadata": {
        "id": "rKZAl7hhbwxM"
      },
      "source": [
        "<a name=\"chapter2\"></a>\n",
        "## 创造函数 \n"
      ]
    },
    {
      "cell_type": "markdown",
      "metadata": {
        "id": "7oHV1Nr7erhj"
      },
      "source": [
        "<a name=\"section_2_1\"></a>\n",
        "### 根据姓+字+朝代查询人物（optional）"
      ]
    },
    {
      "cell_type": "code",
      "metadata": {
        "id": "R8UbRiJyJFY1"
      },
      "source": [
        "# Function to search for a person based on surname and alternative name (e.g. 字)\n",
        "# Dynasty is optional. If not passed in, all results will be returned.\n",
        "import opencc\n",
        "s2t_converter = opencc.OpenCC('s2t.json')\n",
        "def get_person_by_surname_and_altname(surname, altname, dynasty=None):\n",
        "    surname = s2t_converter.convert(surname)\n",
        "    altname = s2t_converter.convert(altname)\n",
        "    if dynasty:\n",
        "      dynasty = s2t_converter.convert(dynasty)\n",
        "\n",
        "    cur = CONN.cursor()\n",
        "    if dynasty:\n",
        "      sql_statement = \"select * from (select * from BIOG_MAIN INNER JOIN ALTNAME_DATA on BIOG_MAIN.c_personid=ALTNAME_DATA.c_personid where ALTNAME_DATA.c_alt_name_chn='\" + altname + \"' and BIOG_MAIN.c_surname_chn= '\" + surname +\"') tmp_db LEFT JOIN DYNASTIES on tmp_db.c_dy=DYNASTIES.c_dy where DYNASTIES.c_dynasty_chn='\" + dynasty + \"';\"\n",
        "    else:\n",
        "      sql_statement = \"select * from BIOG_MAIN INNER JOIN ALTNAME_DATA on BIOG_MAIN.c_personid=ALTNAME_DATA.c_personid where ALTNAME_DATA.c_alt_name_chn='\" + altname + \"' and BIOG_MAIN.c_surname_chn='\" + surname + \"';\"\n",
        "    print(sql_statement)\n",
        "    cur.execute(sql_statement)\n",
        "    rows = cur.fetchall()\n",
        "    count = 0\n",
        "    for row in rows:\n",
        "      count += 1\n",
        "      print(\"Record\"+str(count)+\": \")\n",
        "      print(row)"
      ],
      "execution_count": 6,
      "outputs": []
    },
    {
      "cell_type": "markdown",
      "metadata": {
        "id": "0JXYckqfcFjh"
      },
      "source": [
        "<a name=\"section_2_2\"></a>\n",
        "### 根据姓+官职+朝代（optional）查询人物"
      ]
    },
    {
      "cell_type": "code",
      "metadata": {
        "id": "gPO0vUGvKCrK"
      },
      "source": [
        "# Function to search for a person based on surname and office.\n",
        "# Dynasty is optional. If not passed in, all results will be returned.\n",
        "import opencc\n",
        "s2t_converter = opencc.OpenCC('s2t.json')\n",
        "def get_person_by_surname_and_office(surname, office, dynasty=None):\n",
        "    surname = s2t_converter.convert(surname)\n",
        "    office = s2t_converter.convert(office)\n",
        "    if dynasty:\n",
        "      dynasty = s2t_converter.convert(dynasty)\n",
        "    cur = CONN.cursor()\n",
        "    if dynasty:\n",
        "      sql_statement = \"select * from (select * from (select distinct(c_personid), OFFICE_CODES.c_office_chn_alt, OFFICE_CODES.c_office_chn from POSTED_TO_OFFICE_DATA JOIN OFFICE_CODES on POSTED_TO_OFFICE_DATA.c_office_id=OFFICE_CODES.c_office_id where OFFICE_CODES.c_office_chn_alt like '%\" + office + \"%' or OFFICE_CODES.c_office_chn like '%\" + office + \"%') tmp_db LEFT JOIN BIOG_MAIN on BIOG_MAIN.c_personid=tmp_db.c_personid where BIOG_MAIN.c_surname_chn= '\" + surname +\"') tmp_db2 LEFT JOIN DYNASTIES on tmp_db2.c_dy=DYNASTIES.c_dy where DYNASTIES.c_dynasty_chn='\" + dynasty +\"';\"  \n",
        "    else:\n",
        "      sql_statement = \"select * from (select distinct(c_personid), OFFICE_CODES.c_office_chn_alt, OFFICE_CODES.c_office_chn from POSTED_TO_OFFICE_DATA JOIN OFFICE_CODES on POSTED_TO_OFFICE_DATA.c_office_id=OFFICE_CODES.c_office_id where OFFICE_CODES.c_office_chn_alt like '%\" + office + \"%' or OFFICE_CODES.c_office_chn like '%\" + office + \"%') tmp_db LEFT JOIN BIOG_MAIN on BIOG_MAIN.c_personid=tmp_db.c_personid where BIOG_MAIN.c_surname_chn= '\" + surname + \"';\"\n",
        "    print(sql_statement)\n",
        "    cur.execute(sql_statement)\n",
        "    rows = cur.fetchall()\n",
        "    count = 0\n",
        "    for row in rows:\n",
        "      count += 1\n",
        "      print(\"Record\"+str(count)+\": \")\n",
        "      print(row)"
      ],
      "execution_count": null,
      "outputs": []
    },
    {
      "cell_type": "markdown",
      "metadata": {
        "id": "bb0OPdw5cM8a"
      },
      "source": [
        "<a name=\"chapter3\"></a>\n",
        "## 调用函数 "
      ]
    },
    {
      "cell_type": "markdown",
      "metadata": {
        "id": "B6NCWBzUfOJT"
      },
      "source": [
        "<a name=\"section_3_1\"></a>\n",
        "### 根据姓+字查询人物"
      ]
    },
    {
      "cell_type": "code",
      "metadata": {
        "colab": {
          "base_uri": "https://localhost:8080/"
        },
        "id": "SMw5Be2GJIf6",
        "outputId": "722cbe74-4a8f-43c1-a574-ccc696a77a86"
      },
      "source": [
        "# Example: Get person by surname + altname\n",
        "surname = \"吕\"\n",
        "zi = \"留卿\"\n",
        "get_person_by_surname_and_altname(surname, zi)"
      ],
      "execution_count": 15,
      "outputs": [
        {
          "output_type": "stream",
          "text": [
            "select * from BIOG_MAIN INNER JOIN ALTNAME_DATA on BIOG_MAIN.c_personid=ALTNAME_DATA.c_personid where ALTNAME_DATA.c_alt_name_chn='留卿' and BIOG_MAIN.c_surname_chn='呂';\n",
            "Record1: \n",
            "(14990, 20662, 'Lv Shizhang', '呂師張', None, None, 20657, 0, 17545, 1, 0, 0, None, None, 0, None, None, None, 0, None, None, None, None, 1291, 623, 28, '至元二10八年任衢州路同知', None, 0, None, None, 'Lu9', '呂', 'Shizhang', '師張', 18, 0, 'Lu(9) Shizhang [20662] WDY, 1, 424.', 0, 0, None, None, None, None, None, None, None, None, None, None, None, None, 'TTS', '20070312', None, None, 1, 8478, 20662, 'Liuqing', '留卿', 4, 9599, '2590', None, None, 'load', '20110330', None, None)\n"
          ],
          "name": "stdout"
        }
      ]
    },
    {
      "cell_type": "markdown",
      "metadata": {
        "id": "4V2X20XhcR_3"
      },
      "source": [
        "<a name=\"section_3_1\"></a>\n",
        "### 根据姓+字+朝代查询人物 "
      ]
    },
    {
      "cell_type": "code",
      "metadata": {
        "id": "rS3z1Ji6MPZM"
      },
      "source": [
        "# Example: Get person by surname + altname + dynasty\n",
        "surname = \"吕\"\n",
        "zi = \"留卿\"\n",
        "dynasty = \"元\"\n",
        "get_person_by_surname_and_altname(surname, zi, dynasty)"
      ],
      "execution_count": null,
      "outputs": []
    },
    {
      "cell_type": "markdown",
      "metadata": {
        "id": "SVhCQtS5cY-l"
      },
      "source": [
        "<a name=\"section_3_3\"></a>\n",
        "### 根据根据姓+官职（含俗称）查询人物"
      ]
    },
    {
      "cell_type": "code",
      "metadata": {
        "id": "vX9Vo5OIQf4X"
      },
      "source": [
        "# Example: Get person by surname + office\n",
        "surname = \"张\"\n",
        "office = \"平章\"\n",
        "get_person_by_surname_and_office(surname, office)"
      ],
      "execution_count": null,
      "outputs": []
    },
    {
      "cell_type": "markdown",
      "metadata": {
        "id": "wSHWGhfxceTF"
      },
      "source": [
        "<a name=\"section_3_4\"></a>\n",
        "### 根据姓+官职（含俗称）+朝代查询人物"
      ]
    },
    {
      "cell_type": "code",
      "metadata": {
        "id": "Zc-ZwLmhLZU0"
      },
      "source": [
        "# Example: Get person by surname + office + dynasty\n",
        "surname = \"王\"\n",
        "office = \"相公\"\n",
        "dynasty = \"宋\"\n",
        "get_person_by_surname_and_office(surname, office, dynasty)"
      ],
      "execution_count": null,
      "outputs": []
    },
    {
      "cell_type": "code",
      "metadata": {
        "id": "j8pLg9S-QWzt"
      },
      "source": [
        "# Example: Get person by surname + office + dynasty\n",
        "surname = \"刘\"\n",
        "office = \"运使\"\n",
        "dynasty = \"宋\"\n",
        "get_person_by_surname_and_office(surname, office, dynasty)"
      ],
      "execution_count": null,
      "outputs": []
    },
    {
      "cell_type": "code",
      "metadata": {
        "id": "Js_YCCbev_Zv"
      },
      "source": [
        ""
      ],
      "execution_count": null,
      "outputs": []
    }
  ]
}
