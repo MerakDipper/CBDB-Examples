{
  "nbformat": 4,
  "nbformat_minor": 0,
  "metadata": {
    "colab": {
      "provenance": [],
      "collapsed_sections": []
    },
    "kernelspec": {
      "name": "python3",
      "display_name": "Python 3"
    },
    "language_info": {
      "name": "python"
    }
  },
  "cells": [
    {
      "cell_type": "markdown",
      "metadata": {
        "id": "b3I4jin-c1-d"
      },
      "source": [
        "### Table of Contents 目录\n",
        "\n",
        "* [安装数据及建立环境](#chapter1)\n",
        "* [创建函数](#chapter2)\n",
        "    * [根据姓+字+朝代（optional）查询人物](#section_2_1)\n",
        "    * [根据字+朝代（optional）查询人物](#section_2_2)\n",
        "    * [根据姓+官职（含俗称）+朝代（optional）查询人物](#section_2_3)\n",
        "* [调用函数](#chapter3)\n",
        "    * [根据姓+字查询人物](#section_3_1)\n",
        "    * [根据姓+字+朝代查询人物](#section_3_2)\n",
        "    * [根据姓+官职（含俗称）查询人物](#section_3_3)\n",
        "    * [根据姓+官职（含俗称）+朝代查询人物](#section_3_4)\n",
        "\n",
        "        "
      ]
    },
    {
      "cell_type": "markdown",
      "metadata": {
        "id": "vqBcl4KTbUEp"
      },
      "source": [
        "<a name=\"chapter1\"></a>\n",
        "## 安装数据及建立环境 \n",
        "\n"
      ]
    },
    {
      "cell_type": "code",
      "metadata": {
        "colab": {
          "base_uri": "https://localhost:8080/"
        },
        "id": "hm2FaxmV76cE",
        "outputId": "18a43d87-61e7-4954-c505-4195c53159de"
      },
      "source": [
        "# Download CBDB sqlite\n",
        "!git clone https://github.com/cbdb-project/cbdb_sqlite.git"
      ],
      "execution_count": 1,
      "outputs": [
        {
          "output_type": "stream",
          "name": "stdout",
          "text": [
            "fatal: destination path 'cbdb_sqlite' already exists and is not an empty directory.\n"
          ]
        }
      ]
    },
    {
      "cell_type": "code",
      "metadata": {
        "colab": {
          "base_uri": "https://localhost:8080/"
        },
        "id": "-4I0t_Qq8wPC",
        "outputId": "8efec668-a92a-4bea-bb74-1237594b25b6"
      },
      "source": [
        "# Explode cbdb_20201110.7z\n",
        "!pip install pyunpack\n",
        "!pip install patool\n",
        "from pyunpack import Archive\n",
        "Archive('./cbdb_sqlite/latest.7z').extractall(\".\")"
      ],
      "execution_count": 2,
      "outputs": [
        {
          "output_type": "stream",
          "name": "stdout",
          "text": [
            "Looking in indexes: https://pypi.org/simple, https://us-python.pkg.dev/colab-wheels/public/simple/\n",
            "Requirement already satisfied: pyunpack in /usr/local/lib/python3.7/dist-packages (0.3)\n",
            "Requirement already satisfied: easyprocess in /usr/local/lib/python3.7/dist-packages (from pyunpack) (1.1)\n",
            "Requirement already satisfied: entrypoint2 in /usr/local/lib/python3.7/dist-packages (from pyunpack) (1.1)\n",
            "Looking in indexes: https://pypi.org/simple, https://us-python.pkg.dev/colab-wheels/public/simple/\n",
            "Requirement already satisfied: patool in /usr/local/lib/python3.7/dist-packages (1.12)\n"
          ]
        }
      ]
    },
    {
      "cell_type": "code",
      "metadata": {
        "id": "SuWAk9mYAjFY"
      },
      "source": [
        "# Create connection to database\n",
        "import sqlite3\n",
        "global CONN\n",
        "CONN = sqlite3.connect(\"./latest.db\")"
      ],
      "execution_count": 3,
      "outputs": []
    },
    {
      "cell_type": "code",
      "source": [],
      "metadata": {
        "id": "8N9aI-jYyz6N"
      },
      "execution_count": 3,
      "outputs": []
    },
    {
      "cell_type": "code",
      "metadata": {
        "colab": {
          "base_uri": "https://localhost:8080/"
        },
        "id": "_1gDJWxoKK0G",
        "outputId": "88e93fd2-4436-4152-f255-3bb9ae6fbefd"
      },
      "source": [
        "!pip install opencc"
      ],
      "execution_count": 4,
      "outputs": [
        {
          "output_type": "stream",
          "name": "stdout",
          "text": [
            "Looking in indexes: https://pypi.org/simple, https://us-python.pkg.dev/colab-wheels/public/simple/\n",
            "Requirement already satisfied: opencc in /usr/local/lib/python3.7/dist-packages (1.1.4)\n"
          ]
        }
      ]
    },
    {
      "cell_type": "markdown",
      "metadata": {
        "id": "rKZAl7hhbwxM"
      },
      "source": [
        "<a name=\"chapter2\"></a>\n",
        "## 创造函数 \n"
      ]
    },
    {
      "cell_type": "markdown",
      "metadata": {
        "id": "7oHV1Nr7erhj"
      },
      "source": [
        "<a name=\"section_2_1\"></a>\n",
        "### 根据姓+字+朝代查询人物（optional）"
      ]
    },
    {
      "cell_type": "code",
      "metadata": {
        "id": "R8UbRiJyJFY1"
      },
      "source": [
        "# Function to search for a person based on surname and alternative name (e.g. 字)\n",
        "# Dynasty is optional. If not passed in, all results will be returned.\n",
        "import opencc\n",
        "s2t_converter = opencc.OpenCC('s2t.json')\n",
        "def get_person_by_surname_and_altname(surname, altname, dynasty=None):\n",
        "    surname = s2t_converter.convert(surname)\n",
        "    altname = s2t_converter.convert(altname)\n",
        "    if dynasty:\n",
        "      dynasty = s2t_converter.convert(dynasty)\n",
        "\n",
        "    cur = CONN.cursor()\n",
        "    if dynasty:\n",
        "      sql_statement = \"select * from (select * from BIOG_MAIN INNER JOIN ALTNAME_DATA on BIOG_MAIN.c_personid=ALTNAME_DATA.c_personid where ALTNAME_DATA.c_alt_name_chn='\" + altname + \"' and BIOG_MAIN.c_surname_chn= '\" + surname +\"') tmp_db LEFT JOIN DYNASTIES on tmp_db.c_dy=DYNASTIES.c_dy where DYNASTIES.c_dynasty_chn='\" + dynasty + \"';\"\n",
        "    else:\n",
        "      sql_statement = \"select * from BIOG_MAIN INNER JOIN ALTNAME_DATA on BIOG_MAIN.c_personid=ALTNAME_DATA.c_personid where ALTNAME_DATA.c_alt_name_chn='\" + altname + \"' and BIOG_MAIN.c_surname_chn='\" + surname + \"';\"\n",
        "    print(sql_statement)\n",
        "    cur.execute(sql_statement)\n",
        "    rows = cur.fetchall()\n",
        "    count = 0\n",
        "    for row in rows:\n",
        "      count += 1\n",
        "      print(\"Record\"+str(count)+\": \")\n",
        "      print(row)"
      ],
      "execution_count": 5,
      "outputs": []
    },
    {
      "cell_type": "markdown",
      "source": [
        "<a name=\"section_2_2\"></a>\n",
        "### 根据字+朝代查询人物（optional）"
      ],
      "metadata": {
        "id": "O1rlKavvPlrB"
      }
    },
    {
      "cell_type": "code",
      "source": [
        "# Function to search for a person based on alternative name (e.g. 字, 号)\n",
        "# Dynasty is optional. If not passed in, all results will be returned.\n",
        "import opencc\n",
        "s2t_converter = opencc.OpenCC('s2t.json')\n",
        "def get_person_by_altname(altname, dynasty=None):\n",
        "    altname = s2t_converter.convert(altname)\n",
        "    if dynasty:\n",
        "      dynasty = s2t_converter.convert(dynasty)\n",
        "\n",
        "    cur = CONN.cursor()\n",
        "    if dynasty:\n",
        "      sql_statement = \"select * from (select * from BIOG_MAIN INNER JOIN ALTNAME_DATA on BIOG_MAIN.c_personid=ALTNAME_DATA.c_personid where ALTNAME_DATA.c_alt_name_chn='\" + altname  +\"') tmp_db LEFT JOIN DYNASTIES on tmp_db.c_dy=DYNASTIES.c_dy where DYNASTIES.c_dynasty_chn='\" + dynasty + \"';\"\n",
        "    else:\n",
        "      sql_statement = \"select * from BIOG_MAIN INNER JOIN ALTNAME_DATA on BIOG_MAIN.c_personid=ALTNAME_DATA.c_personid where ALTNAME_DATA.c_alt_name_chn='\" + altname  + \"';\"\n",
        "    print(sql_statement)\n",
        "    cur.execute(sql_statement)\n",
        "    rows = cur.fetchall()\n",
        "    count = 0\n",
        "    for row in rows:\n",
        "      count += 1\n",
        "      print(\"Record\"+str(count)+\": \")\n",
        "      print(row)"
      ],
      "metadata": {
        "id": "U7gchazwzKTy"
      },
      "execution_count": 6,
      "outputs": []
    },
    {
      "cell_type": "markdown",
      "metadata": {
        "id": "0JXYckqfcFjh"
      },
      "source": [
        "<a name=\"section_2_3\"></a>\n",
        "### 根据姓+官职+朝代（optional）查询人物"
      ]
    },
    {
      "cell_type": "code",
      "metadata": {
        "id": "gPO0vUGvKCrK"
      },
      "source": [
        "# Function to search for a person based on surname and office.\n",
        "# Dynasty is optional. If not passed in, all results will be returned.\n",
        "import opencc\n",
        "s2t_converter = opencc.OpenCC('s2t.json')\n",
        "def get_person_by_surname_and_office(surname, office, dynasty=None):\n",
        "    surname = s2t_converter.convert(surname)\n",
        "    office = s2t_converter.convert(office)\n",
        "    if dynasty:\n",
        "      dynasty = s2t_converter.convert(dynasty)\n",
        "    cur = CONN.cursor()\n",
        "    if dynasty:\n",
        "      sql_statement = \"select * from (select * from (select distinct(c_personid), OFFICE_CODES.c_office_chn_alt, OFFICE_CODES.c_office_chn from POSTED_TO_OFFICE_DATA JOIN OFFICE_CODES on POSTED_TO_OFFICE_DATA.c_office_id=OFFICE_CODES.c_office_id where OFFICE_CODES.c_office_chn_alt like '%\" + office + \"%' or OFFICE_CODES.c_office_chn like '%\" + office + \"%') tmp_db LEFT JOIN BIOG_MAIN on BIOG_MAIN.c_personid=tmp_db.c_personid where BIOG_MAIN.c_surname_chn= '\" + surname +\"') tmp_db2 LEFT JOIN DYNASTIES on tmp_db2.c_dy=DYNASTIES.c_dy where DYNASTIES.c_dynasty_chn='\" + dynasty +\"';\"  \n",
        "    else:\n",
        "      sql_statement = \"select * from (select distinct(c_personid), OFFICE_CODES.c_office_chn_alt, OFFICE_CODES.c_office_chn from POSTED_TO_OFFICE_DATA JOIN OFFICE_CODES on POSTED_TO_OFFICE_DATA.c_office_id=OFFICE_CODES.c_office_id where OFFICE_CODES.c_office_chn_alt like '%\" + office + \"%' or OFFICE_CODES.c_office_chn like '%\" + office + \"%') tmp_db LEFT JOIN BIOG_MAIN on BIOG_MAIN.c_personid=tmp_db.c_personid where BIOG_MAIN.c_surname_chn= '\" + surname + \"';\"\n",
        "    print(sql_statement)\n",
        "    cur.execute(sql_statement)\n",
        "    rows = cur.fetchall()\n",
        "    count = 0\n",
        "    for row in rows:\n",
        "      count += 1\n",
        "      print(\"Record\"+str(count)+\": \")\n",
        "      print(row)"
      ],
      "execution_count": 7,
      "outputs": []
    },
    {
      "cell_type": "markdown",
      "metadata": {
        "id": "bb0OPdw5cM8a"
      },
      "source": [
        "<a name=\"chapter3\"></a>\n",
        "## 调用函数 "
      ]
    },
    {
      "cell_type": "markdown",
      "metadata": {
        "id": "B6NCWBzUfOJT"
      },
      "source": [
        "<a name=\"section_3_1\"></a>\n",
        "### 根据姓+字查询人物"
      ]
    },
    {
      "cell_type": "code",
      "metadata": {
        "colab": {
          "base_uri": "https://localhost:8080/"
        },
        "id": "SMw5Be2GJIf6",
        "outputId": "1f7b1838-ccf2-4e7a-8f43-e61187e0c96a"
      },
      "source": [
        "# Example: Get person by surname + altname\n",
        "surname = \"苏\"\n",
        "zi = \"干宝\"\n",
        "get_person_by_surname_and_altname(surname, zi)"
      ],
      "execution_count": 8,
      "outputs": [
        {
          "output_type": "stream",
          "name": "stdout",
          "text": [
            "select * from BIOG_MAIN INNER JOIN ALTNAME_DATA on BIOG_MAIN.c_personid=ALTNAME_DATA.c_personid where ALTNAME_DATA.c_alt_name_chn='幹寶' and BIOG_MAIN.c_surname_chn='蘇';\n"
          ]
        }
      ]
    },
    {
      "cell_type": "markdown",
      "metadata": {
        "id": "4V2X20XhcR_3"
      },
      "source": [
        "<a name=\"section_3_1\"></a>\n",
        "### 根据姓+字+朝代查询人物 "
      ]
    },
    {
      "cell_type": "code",
      "metadata": {
        "colab": {
          "base_uri": "https://localhost:8080/"
        },
        "id": "rS3z1Ji6MPZM",
        "outputId": "98755518-4be1-4a86-cb2f-472d6ead045c"
      },
      "source": [
        "# Example: Get person by surname + altname + dynasty\n",
        "surname = \"柯\"\n",
        "zi = \"绍庭\"\n",
        "dynasty = \"清\"\n",
        "get_person_by_surname_and_altname(surname, zi, dynasty)"
      ],
      "execution_count": 9,
      "outputs": [
        {
          "output_type": "stream",
          "name": "stdout",
          "text": [
            "select * from (select * from BIOG_MAIN INNER JOIN ALTNAME_DATA on BIOG_MAIN.c_personid=ALTNAME_DATA.c_personid where ALTNAME_DATA.c_alt_name_chn='紹庭' and BIOG_MAIN.c_surname_chn= '柯') tmp_db LEFT JOIN DYNASTIES on tmp_db.c_dy=DYNASTIES.c_dy where DYNASTIES.c_dynasty_chn='清';\n"
          ]
        }
      ]
    },
    {
      "cell_type": "markdown",
      "metadata": {
        "id": "SVhCQtS5cY-l"
      },
      "source": [
        "<a name=\"section_3_3\"></a>\n",
        "### 根据根据姓+官职（含俗称）查询人物"
      ]
    },
    {
      "cell_type": "code",
      "metadata": {
        "colab": {
          "base_uri": "https://localhost:8080/"
        },
        "id": "vX9Vo5OIQf4X",
        "outputId": "9d6d2510-ff14-4521-f170-b4091d0a2e79"
      },
      "source": [
        "# Example: Get person by surname + office\n",
        "surname = \"张\"\n",
        "office = \"平章\"\n",
        "get_person_by_surname_and_office(surname, office)"
      ],
      "execution_count": 10,
      "outputs": [
        {
          "output_type": "stream",
          "name": "stdout",
          "text": [
            "select * from (select distinct(c_personid), OFFICE_CODES.c_office_chn_alt, OFFICE_CODES.c_office_chn from POSTED_TO_OFFICE_DATA JOIN OFFICE_CODES on POSTED_TO_OFFICE_DATA.c_office_id=OFFICE_CODES.c_office_id where OFFICE_CODES.c_office_chn_alt like '%平章%' or OFFICE_CODES.c_office_chn like '%平章%') tmp_db LEFT JOIN BIOG_MAIN on BIOG_MAIN.c_personid=tmp_db.c_personid where BIOG_MAIN.c_surname_chn= '張';\n",
            "Record1: \n",
            "(183, '中書門下平章事;門下平章;同平章事;平章事', '同中書門下平章事', 182, 183, 'Zhang Qixian', '張齊賢', 943, '01', None, 0, 100409, 1, 0, 0, None, 943, 0, None, None, 1014, 515, 7, None, 72, None, None, 0, None, None, None, 0, None, None, 'Zhang', '張', 'Qixian', '齊賢', 15, 0, \"Zhang(1) Qixian [183] His family moved to Luoyang when he was 3 because of disorder during the Five Dynasties. Zonghui's [305] and Zongjian's [3167] father, Zigao's [7171] grandfather. Father-in-law of Wang(2) Juzheng's [8145] brother, Jushan [3945]. Jushan's son-in-law was Sheng(1) Du's [8109] elder cousin Jing's [3739] son, Zunfu [3743]. Zhang(1) Zongjian was Wang(2) Shu(1)'s [1877] son-in-law. XCB, 24.4a-5a; SHY:SH, 49.5a; SS, 265.15a-18a. CB, 3, 2420-21.\\x7f\", 0, 0, None, None, None, None, None, None, None, None, None, None, None, None, 'TTS', '20070312', 'BDGLW', '20081122', 1)\n",
            "Record2: \n",
            "(200, '中書門下平章事;門下平章;同平章事;平章事', '同中書門下平章事', 199, 200, 'Zhang Zhibo', '張知白', 965, '29', None, 0, 100425, 1, 0, 0, None, None, 0, None, None, 1028, 518, 6, None, None, None, None, 0, None, None, None, 0, None, None, 'Zhang', '張', 'Zhibo', '知白', 15, 4, \"Zhang(1) Zhibo [200] Granduncle of Fu(6) Shaojing's [7228] wife. No sons and used his nephew Zisi [3171] as heir. XCB, 63.4a, 7a, 69.1a, 70.6a; LPJ, 5.5a; SS, 310.16b; DDSL, 51.5b. CBD, 3, 2390.\\x7f\", 0, 0, None, None, None, None, None, None, None, None, None, None, None, None, 'TTS', '20070312', 'BDGLW', '20081128', 1)\n",
            "Record3: \n",
            "(279, '中書門下平章事;門下平章;同平章事;平章事', '同中書門下平章事', 278, 279, 'Zhang Shixun', '張士遜', 964, '01', None, 0, 100040, 1, 0, 0, None, 964, 0, None, None, 1049, 524, 1, None, 86, None, None, 0, None, None, None, 0, None, None, 'Zhang', '張', 'Shixun', '士遜', 15, 4, \"Zhang(1) Shixun [279] Ancestors were Qinghe jun Zhang(1). Youzhi's [326] father. Li(2) Zhaogou's [986], Lu(1) Gongru's [1315] and Wang(2) Su's [1881] father-in-law. XCB, 68.18b-19a, 83.3a, 84.4a; Guangdong TZ, 14.21b; Song Qi, WJ, 57.15b; Du Dagui, 'shang,' 4.3b; Hu Su, WJ, 40.1a-14a. Qi has Shixun as a descedant of Wu(6) Zetian [24637]'s minister, Jianzhi [12414]. The lineage moved to Guanghua when Shixun's grandfather, Yu(6) [12422], was buried there. Yu(6)'s father, Yu(5) [12421], served under Zhao(1) Kuangning, who succeeded his father, Zhao(1) Deyin (Renming, p. 1418: not in dataset), by hereditary right as Xiangzhou (Xiangyang) liuhou. Kuangning (Renming, p. 1394: not in dataset) was enfeoffed as Chu Wang (King of Chu) in ca. 904 and at this time was the only local 'warlord' or 'military governor' who continued to remit taxes (shanggong) to the Tang court. His territory subsequently came under control of Yang(2) Xingmi [4044]. (See Renming Da cidian, p. 1394. His younger brother, Zhao(1) Kuangming (Renming, p. 1394: not in dataset), was Jingnan liu hou and in ca. 904, he became an official of the Kingdom of Shu. (Ibid.). CBD, 3, 2345-6.\\x7f\", 0, 0, None, None, None, None, None, None, None, None, None, None, None, None, 'TTS', '20070312', 'BDQKH', '20081206', 1)\n",
            "Record4: \n",
            "(3130, None, '同中書門下平章事', 2413, 3130, 'Zhang Jiuling', '張九齡', 678, '01', None, 0, 14493, 1, 0, 0, None, 678, 361, 3, None, 740, 375, 28, None, 63, None, 718, 375, 6, '左補闕（拜命 開元6(718)）', 737, 375, 25, '荊州長史（拜命 開元25(737)）', 'Zhang', '張', 'Jiuling', '九齡', 6, 72, 'Zhang(1) Jiuling [3130] Giles, 17-18. 《唐代人物知識ベース》記其生卒年為：678 - 740.', 0, 0, None, None, None, None, None, None, None, None, None, None, None, None, 'TTS', '20070312', None, None, 0)\n",
            "Record5: \n",
            "(12419, '同鳳閣鸞台平章事', '同鳳閣鸞臺平章事', 6893, 12419, 'Zhang Jianzhi', '張柬之', 625, '01', None, 0, 15501, 1, 0, 0, None, 625, 351, 8, None, 706, 368, 2, None, 82, None, 684, 409, 1, '天官尚書（拜命 中宗初）', 706, 368, 2, '新州司馬（拜命 神龍2(706)）', 'Zhang', '張', 'Jianzhi', '柬之', 6, 4, 'Zhang(1) Jianzhi [12419] A minister of Wu(6) Zetian [24637], who helped reestablish Tang. See his documentation for descendant, Zhang(1) Shixun [279]. Renming Da cidian, p. 944. 《唐代人物知識ベース》記其生卒年為：625 - 706.', 0, 0, None, None, None, None, None, None, None, None, None, None, None, None, 'TTS', '20070312', None, None, 0)\n",
            "Record6: \n",
            "(13633, None, '平章事', 8023, 13633, 'Zhang Xiaozhong(3)', '張孝忠', 728, '29', None, 0, 14494, 1, 0, 0, None, None, 0, None, None, 791, 0, None, None, 0, None, None, 0, None, None, None, 0, None, None, 'Zhang', '張', 'Xiaozhong(3)', '孝忠', 6, 6, \"Zhang(1) Xiaozhong(3) [13633] Held office as the same jiedu shi as his son Maozhao [3154]. XTS, 140.?, JTS, 141.1a; ZZTJ, 227.7319, 229.7398, 231.7433, 233.7519, 7524.From Hartwell's ACTIVITY table:782:  Apt. Yi, Ding, Cang zhou jiedu shi.784:  Added Tongping zhangshi to his titles and responsibilities.791:  Died in office as Yiding jiedu shi.(other entries for 782 & 789).\", 0, 0, None, None, None, None, None, None, None, None, None, None, None, None, 'TTS', '20070312', None, None, 0)\n",
            "Record7: \n",
            "(28670, '平章;平章政事', '平章政事', 22984, 28670, 'Zhang Shide(2)', '張士德', 1322, '01', None, 0, 17571, 1, 0, 0, None, 1322, 0, None, None, 1357, 0, None, None, 36, None, None, 0, None, None, None, 0, None, None, 'Zhang', '張', 'Shide(2)', '士德', 18, 0, 'Zhang(1) Shide(2) [28670] WDY, 2, p. 1108.', 0, 0, None, None, None, None, None, None, None, None, None, None, None, None, 'TTS', '20070312', None, None, 0)\n",
            "Record8: \n",
            "(29000, '中書平章政事;中書平章;平章政事;中書平章軍國重事;中書省平章政事', '中書省平章政事', 23256, 29000, 'Zhang Gui(4)', '張珪', 1264, '01', None, 0, 16920, 1, 0, 0, None, 1264, 0, None, None, 1327, 0, None, None, 64, None, 1292, 623, 29, '至元二10九年除江淮行院副使', 1322, 629, 2, '至治二年起為集賢大學士', 'Zhang', '張', 'Gui(4)', '珪', 18, 0, 'Zhang(1) Gui(4) [29000] CHECK funerary inscription. Yi ZZ (1501), 12.26b-32a. WDY, 2, pp. 1067-8.', 0, 0, None, None, None, None, None, None, None, None, None, None, None, None, 'TTS', '20070312', None, None, 1)\n",
            "Record9: \n",
            "(31407, None, '同中書門下平章事', 25828, 31407, 'Zhang Yue', '張說', 667, '01', None, 0, 14693, 1, 0, 0, None, 667, 357, 2, None, 731, 375, 19, None, 65, None, 684, 409, 1, '兵部員外郎（拜命 中宗即位）', 729, 375, 17, '知集賢院事（拜命 開元17(729)）', 'Zhang', '張', 'Yue', '說', 6, 6, 'Zhang(1) Yue(6) [31407] Zaixiang under Ruizong and Xuanzong. Zhang Jiuling, WJ, 11.13a-14b. QTW, 221.1a-1b. Collected papers preserved in QTW. 《唐代人物知識ベース》記其生卒年為：667 - 731.', 0, 0, None, None, None, None, None, None, None, None, None, None, None, None, 'TTS', '20070312', None, None, 0)\n",
            "Record10: \n",
            "(32016, None, '同中書門下平章事', 26357, 32016, 'Zhang Jiazhen', '張嘉貞', 666, '01', None, 0, 15006, 1, 0, 0, None, 666, 0, None, None, 729, 0, None, None, 64, None, None, 0, None, None, None, 0, None, None, 'Zhang', '張', 'Jiazhen', '嘉貞', 6, 34, 'Zhang(1) Jiazhen [32016] Zaixiang under Xuanzong. JTS, 99.3090-3093. QTW, 299.12b-13a. Literary fragments preserved in QTW.', 0, 0, None, None, None, None, None, None, None, None, None, None, None, None, 'TTS', '20070312', None, None, 0)\n",
            "Record11: \n",
            "(32019, None, '平章事', 26473, 32019, 'Zhang Hongjing', '張弘靖', 760, '01', None, 0, 15006, 1, 0, 0, None, 760, 379, 1, None, 824, 389, 4, None, 65, None, 809, 388, 4, '中書舍人（拜命 元和4(809)）', 900, 405, 3, '監察御史（退任 光化3(900)）', 'Zhang', '張', 'Hongjing', '弘靖', 6, 34, 'Zhang(1) Hongjing [32019] Zaixiang under Xianzong. JTS, 129.3610-13. 《唐代人物知識ベース》記其生卒年為：760 - 824.', 0, 0, None, None, None, None, None, None, None, None, None, None, None, None, 'TTS', '20070312', None, None, 0)\n",
            "Record12: \n",
            "(32019, None, '同中書門下平章事', 26473, 32019, 'Zhang Hongjing', '張弘靖', 760, '01', None, 0, 15006, 1, 0, 0, None, 760, 379, 1, None, 824, 389, 4, None, 65, None, 809, 388, 4, '中書舍人（拜命 元和4(809)）', 900, 405, 3, '監察御史（退任 光化3(900)）', 'Zhang', '張', 'Hongjing', '弘靖', 6, 34, 'Zhang(1) Hongjing [32019] Zaixiang under Xianzong. JTS, 129.3610-13. 《唐代人物知識ベース》記其生卒年為：760 - 824.', 0, 0, None, None, None, None, None, None, None, None, None, None, None, None, 'TTS', '20070312', None, None, 0)\n",
            "Record13: \n",
            "(93482, None, '同中書門下平章事', 87171, 93482, 'Zhang Ge', '張格', 864, '29', None, 0, 15391, 1, 0, 0, None, None, 0, None, None, 927, 0, None, None, None, None, 726, 375, 14, '中書侍郎（退任 開元14(726)）', 968, 507, 1, '同平章事（拜命 乾德6）', 'Zhang', '張', 'Ge', '格', 0, 0, 'Index year algorithmically generated: Rule 2; 《唐代人物知識ベース》記其生卒年為：不明 - 927.', 0, 0, None, None, None, None, None, None, None, None, None, None, None, None, 'load', '20101014', None, None, 0)\n",
            "Record14: \n",
            "(93516, None, '平章事', 87205, 93516, 'Zhang Ce', '張策', 849, '29', None, 0, 16753, 1, 0, 0, None, None, 0, None, None, 912, 0, None, None, None, None, 895, 404, 2, '鄭滑支使（拜命 乾寧2(895)）', 907, 407, 4, '承旨（拜命 梁太祖開平1）', 'Zhang', '張', 'Ce', '策', 0, 0, 'Index year algorithmically generated: Rule 2; 《唐代人物知識ベース》記其生卒年為：不明 - 912.', 0, 0, None, None, None, None, None, None, None, None, None, None, None, None, 'load', '20101014', None, None, 0)\n",
            "Record15: \n",
            "(93528, '同鳳閣鸞台平章事', '同鳳閣鸞臺平章事', 87217, 93528, 'Zhang Xi', '張錫', None, '', None, 0, 15237, 1, 0, 0, None, None, 0, None, None, None, 0, None, None, None, None, 700, 423, 1, '鳳閣侍郎（拜命 久視1(700)）', 710, 371, 1, '同中書門下三品（拜命 景雲1(710)）', 'Zhang', '張', 'Xi', '錫', 77, 0, None, 0, 0, None, None, None, None, None, None, None, None, None, None, None, None, 'load', '20101014', None, None, 0)\n",
            "Record16: \n",
            "(93547, None, '同中書門下平章事', 87235, 93547, 'Zhang Jun', '張濬', 841, '29', None, 0, 15391, 1, 0, 0, None, None, 0, None, None, 904, 407, 1, None, None, None, 877, 396, 4, '太常博士（拜命 乾符閒）', 897, 404, 4, '尚書左僕射（拜命 乾寧4(897)）', 'Zhang', '張', 'Jun', '濬', 6, 0, 'Index year algorithmically generated: Rule 2; 《唐代人物知識ベース》記其生卒年為：不明 - 904.', 0, 0, None, None, None, None, None, None, None, None, None, None, None, None, 'load', '20101014', None, None, 0)\n",
            "Record17: \n",
            "(106530, '中書平章政事;中書平章;平章政事;中書平章軍國重事;中書省平章政事', '中書省平章政事', 100234, 106530, 'Zhang Yi', '張易', None, '', None, 0, 17200, 1, 0, 0, None, None, 0, None, None, None, 0, None, None, None, None, 1260, 622, 1, '中統元年拜燕京行省參政', 1266, 623, 3, '至元三年以中書右丞同知制國用使司事', 'Zhang', '張', 'Yi', '易', 18, 0, None, 0, 0, None, None, None, None, None, None, None, None, None, None, None, None, 'load', '20110310', None, None, 1)\n",
            "Record18: \n",
            "(106530, None, '同平章尚書省事', 100234, 106530, 'Zhang Yi', '張易', None, '', None, 0, 17200, 1, 0, 0, None, None, 0, None, None, None, 0, None, None, None, None, 1260, 622, 1, '中統元年拜燕京行省參政', 1266, 623, 3, '至元三年以中書右丞同知制國用使司事', 'Zhang', '張', 'Yi', '易', 18, 0, None, 0, 0, None, None, None, None, None, None, None, None, None, None, None, None, 'load', '20110310', None, None, 1)\n",
            "Record19: \n",
            "(106658, '行省平章事;行省平章', '行中書省平章', 100362, 106658, 'Zhang Hui', '張惠', 1223, '01', None, 0, 17819, 1, 0, 0, None, 1223, 0, None, None, 1285, 0, None, None, 63, None, 1260, 622, 1, '中統元年授燕京宣慰副使', 1264, 623, 1, '至元元年除山東行省參政', 'Zhang', '張', 'Hui', '惠', 18, 0, None, 0, 0, None, None, None, None, None, None, None, None, None, None, None, None, 'load', '20110310', None, None, 1)\n",
            "Record20: \n",
            "(106865, '行省平章事;行省平章', '行中書省平章', 100569, 106865, 'Zhang Shixin', '張士信', 1324, '19', None, 0, 17571, 1, 0, 0, None, None, 0, None, None, None, 0, None, None, None, None, 1367, 0, None, 'auto-generated from date mentioned in bio', None, 0, None, None, 'Zhang', '張', 'Shixin', '士信', 18, 0, 'Index year algorithmically generated: Rule 10;', 0, 0, None, None, None, None, None, None, None, None, None, None, None, None, 'load', '20110310', None, None, 1)\n",
            "Record21: \n",
            "(106911, '中書平章政事;中書平章;平章政事;中書平章軍國重事;中書省平章政事', '中書省平章政事', 100615, 106911, 'Zhang Youliang', '張友諒', None, '', None, 0, 17139, 1, 0, 0, None, None, 0, None, None, None, 0, None, None, None, None, 1326, 630, None, '泰定間歷戶部尚書', 1356, 636, 16, '至正10六年累官中書平章', 'Zhang', '張', 'Youliang', '友諒', 18, 0, None, 0, 0, None, None, None, None, None, None, None, None, None, None, None, None, 'load', '20110310', None, None, 1)\n",
            "Record22: \n",
            "(107154, '平章;平章政事', '平章政事', 100853, 107154, 'Zhang Qiyuan', '張啟元', None, '', None, 0, None, None, 0, 0, None, None, 0, None, None, None, 0, None, None, None, None, 1260, 622, 1, '中統元年授西京宣撫使', 1264, 623, None, '至元初陞平章政事', 'Zhang', '張', 'Qiyuan', '啟元', 18, 0, None, 0, 0, None, None, None, None, None, None, None, None, None, None, None, None, 'load', '20110310', None, None, 1)\n",
            "Record23: \n",
            "(185555, None, '同中書門下平章事', 172437, 185555, 'Zhang Yunshen', '張允伸', 784, '01', None, 0, None, None, 0, 0, None, 784, 0, None, None, 872, 0, None, None, 88, None, None, 0, None, None, None, 0, None, None, 'Zhang', '張', 'Yunshen', '允伸', 6, 0, 'cf. 補遺 8:160-161; 洛陽新獲續 483-484 cf. 唐末至宋初墓誌目錄 254', 0, 0, None, None, None, None, None, None, None, None, None, None, None, None, 'load', '20130923', None, None, 1)\n"
          ]
        }
      ]
    },
    {
      "cell_type": "markdown",
      "metadata": {
        "id": "wSHWGhfxceTF"
      },
      "source": [
        "<a name=\"section_3_4\"></a>\n",
        "### 根据姓+官职（含俗称）+朝代查询人物"
      ]
    },
    {
      "cell_type": "code",
      "metadata": {
        "colab": {
          "base_uri": "https://localhost:8080/"
        },
        "id": "Zc-ZwLmhLZU0",
        "outputId": "e9928ab5-cf8c-4648-86e9-3586b3d093a6"
      },
      "source": [
        "# Example: Get person by surname + office + dynasty\n",
        "surname = \"王\"\n",
        "office = \"相公\"\n",
        "dynasty = \"宋\"\n",
        "get_person_by_surname_and_office(surname, office, dynasty)"
      ],
      "execution_count": 11,
      "outputs": [
        {
          "output_type": "stream",
          "name": "stdout",
          "text": [
            "select * from (select * from (select distinct(c_personid), OFFICE_CODES.c_office_chn_alt, OFFICE_CODES.c_office_chn from POSTED_TO_OFFICE_DATA JOIN OFFICE_CODES on POSTED_TO_OFFICE_DATA.c_office_id=OFFICE_CODES.c_office_id where OFFICE_CODES.c_office_chn_alt like '%相公%' or OFFICE_CODES.c_office_chn like '%相公%') tmp_db LEFT JOIN BIOG_MAIN on BIOG_MAIN.c_personid=tmp_db.c_personid where BIOG_MAIN.c_surname_chn= '王') tmp_db2 LEFT JOIN DYNASTIES on tmp_db2.c_dy=DYNASTIES.c_dy where DYNASTIES.c_dynasty_chn='宋';\n",
            "Record1: \n",
            "(1762, '參政;知政事;參;大參;參大政;參機政;參鬷嘏;首參;相公;參預政事;參預', '參知政事', 1913, 1762, 'Wang Anshi', '王安石', 1021, '01', None, 0, 100513, 1, 0, 0, None, 1021, 516, 5, None, 1086, 530, 1, None, 66, None, None, 0, None, None, None, 0, None, None, 'Wang', '王', 'Anshi', '安石', 15, 20, \"Wang(2) Anshi [1762] Yi(3)'s [7082] son, Guan(1)'s [1841] grandnephew, Anguo's [7076], Anli's [1760], and Anshang's [1761] brother, Fang's [1803] uncle, Jue(1)'s [1796] great grandfather, Zhu(1) Mingzhi's [526] and Shen(2) Jichang's [1445] brother-in-law, Cai(1) Bian's [8131] father-in-law and uncle-in-law, and Wu(3) Anchi's [1957] father-in-law. Anshi was Zhang(1) Jifu's [195], Xu(3) Xi's [753] and Yang(2) Wei's [2032] patron, Li(2) Ding(1)'s [1097] patron and teacher, Gong(2) Yuan' s [941] teacher, and the teacher of Wang(2) Pin's [7381] uncle, Boqi [3970]. He was the grandnephew of Wang(2) Guanzhi [3965], the father-in-law of Zhou(1) Jiazheng's [480] son, Yanxian [3250]. His mother was Wu(3) Shi and his wife was Wu(3) Shi. He once arranged for a marriage between his wife's younger sister and Wang(2) Ling [3967] whose scholarship he admired. The sister's, and therefore Wang Anshi's wife's, grandfather, Wu(3) Min [4017], had the same generational name and address as Anshi's maternal grandfather, Wu(3) Tian [7396], so that it can be assumed that they were brothers or cousins. When Wang Anshi composed the funerary inscription for the two women's father, Wu(3) Ben [4020], in 1054, neither daughter was married. Wang(2) Ling died in 1059 at the age of 28. Wang Anshi was 32 in 1054. Wang(2) Ling was Wu(3) Yue's [1992] maternal grandfather. The mother of Yan(5) Shu's [2073] grandnephew, Fang [4118], was the younger sister of Wang(2) Anshi's wife, Wu(2) Shi. Songshi yi, 5.5b discusses the coalitional significance of the fact that Lu(9) Jiawen's [1294] son married the daughter of Wang Anshi's son, Pang(a) [3968], and that Cai(1) Bian [8131] married Pang's elder sister. Anshi was a friend of Wang(2) Ping's [1856] son, Hui [3958] and his older and younger brothers were tongnianyou with the sons of Chen(1) Jiansu [7101]. XCB, 177.2a, 179.3a, 184.15a, 188.8a, 189.3a, 18a, 191.9a-10a, 192.4a-4b, 7a; XCBSB, 4.4b, 15.17a, 16.14b; Shen Gou, WJ, 2.48b; SHY:ZG, 5.1a; Zeng Gong, WJ, 45.4b; Du Dagui, 'xia,' 14.1a; Wang Anshi, WJ, 97.998, 98.1012; Wang Ling, WJ, 'fu,' 13b. CBD, 1, 277-281.From Hartwell's ACTIVITY table:1075:  Working on the railroad all the time all the time all the time\\x7f\\x7f\", 0, 0, None, None, None, None, None, None, None, None, None, None, None, None, 'TTS', '20070312', 'BDQKH', '20081115', 1, 15, 'Song', '宋', 960, 1279, 66)\n",
            "Record2: \n",
            "(1762, '昭文相公;首相;首廳', '同中書門下平章事、昭文館大學士、監修國史', 1913, 1762, 'Wang Anshi', '王安石', 1021, '01', None, 0, 100513, 1, 0, 0, None, 1021, 516, 5, None, 1086, 530, 1, None, 66, None, None, 0, None, None, None, 0, None, None, 'Wang', '王', 'Anshi', '安石', 15, 20, \"Wang(2) Anshi [1762] Yi(3)'s [7082] son, Guan(1)'s [1841] grandnephew, Anguo's [7076], Anli's [1760], and Anshang's [1761] brother, Fang's [1803] uncle, Jue(1)'s [1796] great grandfather, Zhu(1) Mingzhi's [526] and Shen(2) Jichang's [1445] brother-in-law, Cai(1) Bian's [8131] father-in-law and uncle-in-law, and Wu(3) Anchi's [1957] father-in-law. Anshi was Zhang(1) Jifu's [195], Xu(3) Xi's [753] and Yang(2) Wei's [2032] patron, Li(2) Ding(1)'s [1097] patron and teacher, Gong(2) Yuan' s [941] teacher, and the teacher of Wang(2) Pin's [7381] uncle, Boqi [3970]. He was the grandnephew of Wang(2) Guanzhi [3965], the father-in-law of Zhou(1) Jiazheng's [480] son, Yanxian [3250]. His mother was Wu(3) Shi and his wife was Wu(3) Shi. He once arranged for a marriage between his wife's younger sister and Wang(2) Ling [3967] whose scholarship he admired. The sister's, and therefore Wang Anshi's wife's, grandfather, Wu(3) Min [4017], had the same generational name and address as Anshi's maternal grandfather, Wu(3) Tian [7396], so that it can be assumed that they were brothers or cousins. When Wang Anshi composed the funerary inscription for the two women's father, Wu(3) Ben [4020], in 1054, neither daughter was married. Wang(2) Ling died in 1059 at the age of 28. Wang Anshi was 32 in 1054. Wang(2) Ling was Wu(3) Yue's [1992] maternal grandfather. The mother of Yan(5) Shu's [2073] grandnephew, Fang [4118], was the younger sister of Wang(2) Anshi's wife, Wu(2) Shi. Songshi yi, 5.5b discusses the coalitional significance of the fact that Lu(9) Jiawen's [1294] son married the daughter of Wang Anshi's son, Pang(a) [3968], and that Cai(1) Bian [8131] married Pang's elder sister. Anshi was a friend of Wang(2) Ping's [1856] son, Hui [3958] and his older and younger brothers were tongnianyou with the sons of Chen(1) Jiansu [7101]. XCB, 177.2a, 179.3a, 184.15a, 188.8a, 189.3a, 18a, 191.9a-10a, 192.4a-4b, 7a; XCBSB, 4.4b, 15.17a, 16.14b; Shen Gou, WJ, 2.48b; SHY:ZG, 5.1a; Zeng Gong, WJ, 45.4b; Du Dagui, 'xia,' 14.1a; Wang Anshi, WJ, 97.998, 98.1012; Wang Ling, WJ, 'fu,' 13b. CBD, 1, 277-281.From Hartwell's ACTIVITY table:1075:  Working on the railroad all the time all the time all the time\\x7f\\x7f\", 0, 0, None, None, None, None, None, None, None, None, None, None, None, None, 'TTS', '20070312', 'BDQKH', '20081115', 1, 15, 'Song', '宋', 960, 1279, 66)\n",
            "Record3: \n",
            "(1768, '參政;知政事;參;大參;參大政;參機政;參鬷嘏;首參;相公;參預政事;參預', '參知政事', 1919, 1768, 'Wang Qinruo', '王欽若', 962, '01', None, 0, 100211, 1, 0, 0, None, 962, 505, 3, None, 1025, 518, 3, None, 64, None, None, 0, None, None, None, 0, None, None, 'Wang', '王', 'Qinruo', '欽若', 15, 20, 'Wang Qinruo [1768] His ancestors were Taiyuan jun Wang(2). At the end of the Tang, his great great grandfather and great grandfather fled to Linjiang and established the family register (ji) at Xinyu xian. All five of his sons died before his death. His granddaughter was married to Chen(1) Shu(1)s [83] son, Zhili [3056]. Qinruo was Zhang(1) Xiangs [225] father-in-law and  Xiangs grandfather was Zhang(1) Ji(2) [8012]. XCB, 42.7b, 44.1b; SS, 283.1a-1b; Xia Song, WJ, 28.9a-15a, 29.13b-20a. CBD, 1, 350-1.', 0, 0, None, None, None, None, None, None, None, None, None, None, None, None, 'TTS', '20070312', None, None, 1, 15, 'Song', '宋', 960, 1279, 66)\n",
            "Record4: \n",
            "(1787, '參政;知政事;參;大參;參大政;參機政;參鬷嘏;首參;相公;參預政事;參預', '參知政事', 1938, 1787, 'Wang Zhiwang', '王之望', 1103, '01', None, 0, 12793, 1, 0, 0, None, 1103, 0, None, None, 1170, 543, 6, None, 68, None, None, 0, None, None, None, 0, None, None, 'Wang', '王', 'Zhiwang', '之望', 15, 0, 'Wang(2) Zhiwang [1787] He moved to Taizhou in ca. 1131. XNYL, 165.7a-7b, 167.7b, 168.7a, 174.10a, 10b, 14b, 175.4b, 176.1b, 177.4a, 179.13b, 182.3b, 184.8b, 185.19b-20a, 189.7a, 12b, 190.13a, 193.5a-5b, 198.14b, 23b; XZZTJ, 139.4a; SHY:ZG, 41.50b, 51a, 43.109b; SS, 372.5a; Hubei TZ, 23.28b. CBD, 1, 255-6.\\x7f', 0, 0, None, None, None, None, None, None, None, None, None, None, None, None, 'TTS', '20070312', 'BDQKH', '20081115', 1, 15, 'Song', '宋', 960, 1279, 66)\n",
            "Record5: \n",
            "(1845, '參政;知政事;參;大參;參大政;參機政;參鬷嘏;首參;相公;參預政事;參預', '參知政事', 1996, 1845, 'Wang Gui', '王珪', 1019, '01', None, 0, 100667, 1, 0, 0, None, 1019, 516, 3, None, 1085, 529, 8, None, 67, None, None, 0, None, None, None, 0, None, None, 'Wang', '王', 'Gui', '珪', 15, 20, \"Wang Gui [1845] According to his funerary inscription composed by Li(2) Qingchen [982], Gui's great grandfather, Yong [13516], was buried in Henan and from him, the family registers were transferred to Shuzhou. Both Gui and his cousin, Qi [1765], are listed in the Anhui TZ, 154.7b as Shuzhou jinshi. Gui, however, was buried in Kaifeng, Dongmou county. The wives of Gui's uncles, Han [1810] and Tan [3979], were buried respectively in Zhenjiang and Yangzhou, which are located in the same economic region as Shu (neither wife was from the area where buried), which may or may not be indicative. Almost all the descendants (before other moves) are still listed as Chengdu, Huayang residents. I am accepting the move with Yong to Shu and then grandfather, Zhi(5) [1783], moves to Kaifeng, Dongmou, and making all of his descendants Kaifeng residents before they move elsewhere. Zhi(5)'s [1783] grandson, Qi(2)'s [1765] younger cousin, Han's [1810] nephew, Zhongduan's [3944], Zhongni's [7373], and Zhongshan's [7081] father, Zhonghong's [1799] uncle, and Huan's [1820], Hui(2)'s [1822], and Sheng's [1869] grandfather. Gui(1) was Meng(2) Zhonghou's [8104] grandfather-in-law, Zheng(1) Juzhong's [8027] and Li(2) Gefei's [7039] father-in-law, and Zheng(1) Jian's [411] son-in-law. His wife's maternal grandfather was Li(2) Changyan [7037]. His uncle Tan's [3979] wife was Lu(9) Mengheng's [7054] niece. His nephew, Zhongkan [3943], was Li(2) Suzhi's [1086] son-in-law. Zhongyuan [1800] had the same generational name as his sons and nephews. Xiang(3) [1864] and Yang [1917] had the same generational names as his grandsons and grandnephews. XCB, 214.29b; SHY:ZG, 27.4b, 46b, 77.1a; SHY:SH, 56.16a; SS, 312.21b; Du Dagui, 'shang,' 8.5b; Wang Gui, WJ, 53.8b. CBD, 1, 152-154.\\x7f\", 0, 0, None, 5, None, None, None, None, None, None, None, None, None, None, 'TTS', '20070312', 'BDQKH', '20081025', 1, 15, 'Song', '宋', 960, 1279, 66)\n",
            "Record6: \n",
            "(1853, '參政;知政事;參;大參;參大政;參機政;參鬷嘏;首參;相公;參預政事;參預', '參知政事', 2004, 1853, 'Wang Mian', '王沔', 950, '01', None, 0, 100662, 1, 0, 0, None, 950, 439, 3, None, 992, 511, 3, None, 43, None, None, 0, None, None, None, 0, None, None, 'Wang', '王', 'Mian', '沔', 15, 0, \"Wang(2) Mian [1853] The sources which have him as a Jinan (Qi) resident mistakenly read Ba as Qi since his great grandaughter, wife of Yan(5) Shu's [2073] son, Zhizhi [2072], has a funerary inscription drafted by Zhang(1) Lei (WJ, 60.4a-5a) which identifies him as a Bazhou, Wenan county resident, whose son, Mu(2) [12355], moves to Kaifeng, Xianping (modern Tongxu) county. LPJ, 6.4b; SHY:SH, 49.5a, 5b-6a; SS, 266.16b; DDSL, 36.2a. CBD, 1, 118.\\x7f\", 0, 0, None, None, None, None, None, None, None, None, None, None, None, None, 'TTS', '20070312', 'BDQKH', '20081025', 1, 15, 'Song', '宋', 960, 1279, 66)\n",
            "Record7: \n",
            "(1877, '參政;知政事;參;大參;參大政;參機政;參鬷嘏;首參;相公;參預政事;參預', '參知政事', 2028, 1877, 'Wang Shu(2)', '王曙', 963, '01', None, 0, 100409, 1, 0, 0, None, 963, 0, None, None, 1034, 520, 1, None, 72, None, None, 0, None, None, None, 0, None, None, 'Wang', '王', 'Shu(2)', '曙', 15, 20, \"Wang(2) Shu(2) [1877] His ancestors were Taiyuan jun Wang(2), who subsequently moved to Lu(b)zhou. Shu(1) moved to Henan, Henan xian. Yirou's [1828] father, Kou(1) Zhun's [898] son-in-law. Father-in-law of Sun(1) Yu [1552], Chen(1) Anshi [17] and Zhang(1) Qixian's [183] son, Zongjian [3167]. Another son-in-law was Yang(2) Shunchen [4052], son of Yang(2) Qiong [4037], a Fenzhou, Xihe xian general, who helped Zhao(1) Taizong [9002] put down a Sichuan rebellion. Another son-in-law, Zhao(1) Shizong [3208], was a fifth generation descendant of Zhao(1) Taizong [9002]. The other son-in-law, Yin(2) Zongji [4127], had the same generational name as the great grandsons and grandnephews of Yin(2) Chongke [2075]. Shu(1)'s grandson Wang(2) Shenyan's [3977] father-in-law was Zhang(1) Shixi [13674]. Shenyan's son-in-law, Song(2) Zifang [3806], had the same generational name as Song(2) Shi's [8121] great grandsons and great grandnephews, and another son-in-law, Zhao(1) Junbi [3196], had the same generational name as Zhao(1) Anren's [8176] grandsons and grandnephews. Shu(2) was Zhang(2) Liang's [7159] great grandfather-in-law (twice: sororate ?). Wang(2) Shenwei [1868] had the same generational name as his grandsons. In SHY and state council sources, his mingzi is written Xiao. Fan Chunren, WJ, 14.17b; XCB, 58.1b, 60.15b, 61.16a, 69.11b, 72.21a, 76.4a, 78.4a, 10a; SHY:ZG, 23.6a, 64.21b; SHY:SH, 49.12a; Cai Xiang, WJ, 40.14a; Yin Zhu, WJ, 12.9a-15a.\\x7f\", 0, 0, None, None, None, None, None, None, None, None, None, None, None, None, 'TTS', '20070312', 'BDQKH', '20081108', 1, 15, 'Song', '宋', 960, 1279, 66)\n",
            "Record8: \n",
            "(1882, '參政;知政事;參;大參;參大政;參機政;參鬷嘏;首參;相公;參預政事;參預', '參知政事', 2033, 1882, 'Wang Sui', '王隨', 972, '05', None, 0, 11478, 1, 0, 0, None, None, 0, None, None, None, 0, None, None, 67, None, None, 0, None, None, None, 0, None, None, 'Wang', '王', 'Sui', '隨', 15, 0, 'Wang(2) Sui [1882] Involved on coalitional struggles with Chen(1) Yaozuo [98]. XCB, 74.14b, 79.2b; LPJ, 5.9a; SS, 311.8a; DDSL, 56.1a. CBD, 1, 221-2.\\x7f', 0, 0, None, None, None, None, None, None, None, None, None, None, None, None, 'TTS', '20070312', 'BDQKH', '20081108', 1, 15, 'Song', '宋', 960, 1279, 66)\n",
            "Record9: \n",
            "(1883, '參政;知政事;參;大參;參大政;參機政;參鬷嘏;首參;相公;參預政事;參預', '參知政事', 2034, 1883, 'Wang Tao', '王綯', 1074, '01', None, 0, 100658, 1, 0, 0, None, 1074, 528, 7, None, 1137, 541, 7, None, 64, None, None, 0, None, None, None, 0, None, None, 'Wang', '王', 'Tao', '綯', 15, 20, \"Wang(2) Tao [1883] He traced his ancestry to a Liaoxi lineage, which moved to Taiyuan and/or Zhending, and then to Henan. His sixth generation ancestor, Shenqi [3976], served the Song founders and moved to Luoyang. Shenqi's great grandson was Kechen [1834]. Tao was was Fa's [3950] son, Kecun's [3963] grandson, Shirong's [3972] great grandson, Chengyan's [3939] great great grandson. Chengyan was Shenqi's son. Tao died in a Buddhist temple in Kunshan xian. His eighth generation descendant was a Kunshan xiucai at the beginning of the Ming dynasty. Tao was related to Kai(3) [7379]. It is interesting, and perhaps significant, to note that Tao's grandfather, Kecun, was the son-in-law of Han(1) Qi's [630] elder brother, Ju [641] (only one by the same mother, born Hu), and that Qi's 7th generation descendant, Jing [3322] moved from Shaoxing to Suzhou. Zhang Shou, WJ, 13.1a-7b; XNYL, 22.4a; SS, 250.7a ff; Suzhou FZ, 139.21a; Wuzhong wuzhi, 4.7b; Yufeng zhi, 'zhong,' 52b. CBD, 1, 206-8.\\x7f\", 0, 0, None, None, None, None, None, None, None, None, None, None, None, None, 'TTS', '20070312', 'BDQKH', '20081108', 1, 15, 'Song', '宋', 960, 1279, 66)\n",
            "Record10: \n",
            "(1901, '參政;知政事;參;大參;參大政;參機政;參鬷嘏;首參;相公;參預政事;參預', '參知政事', 2052, 1901, 'Wang Zeng', '王曾', 978, '01', None, 0, 100658, 1, 0, 0, None, 978, 508, 3, None, 1038, 521, 1, None, 61, None, None, 0, None, None, None, 0, None, None, 'Wang', '王', 'Zeng', '曾', 15, 20, \"Wang(2) Zeng [1901] Jinshi # 1. Descended from Wang(2) Ba [12116], and his descendants, who lived in Taiyuan, Qixian. At the end of the Tang, the family moved several times and finally settled in Qingzhou, Yidu. Zeng, according to his niece's funerary inscription (wife of Zhang(1) Zhongzhuang [17738] and daughter of Zirong), Zeng moved to Kaifeng and the family became Kaifeng residents. From this time, the Yidu address is anachronistic. Yi(1)'s [1824] father (adopted), Zirong's [1911] elder brother, Li(2) Hang's [8076] son-in-law (twice: sororate), Shen(2) Weiwen's [7328] father-in-law, Han(1) Zhengyan's [635] grandfather-in-law. Granduncle of the wife of Zhu(1) Ang's [512] grandson. XCB, 61.12b; HSSCGY, 3.5a; Song Qi, WJ, 58.15a; Du Dagui, 'zhong,' 44.1a-5a (funerary inscription by Fu(6) Bi [628]). CBD, 1, 173-4.\\x7f\\x7f\", 0, 0, None, None, None, None, None, None, None, None, None, None, None, None, 'TTS', '20070312', 'HVDCS', '20100718', 1, 15, 'Song', '宋', 960, 1279, 66)\n",
            "Record11: \n",
            "(1903, '參政;知政事;參;大參;參大政;參機政;參鬷嘏;首參;相公;參預政事;參預', '參知政事', 2054, 1903, 'Wang Zong', '王鬷', 978, '05', None, 0, 100511, 1, 0, 0, None, None, 508, 3, None, None, 0, None, None, 64, None, None, 0, None, None, None, 0, None, None, 'Wang', '王', 'Zong', '鬷', 15, 0, 'Wang(2) Zong [1903] Song(2) Shis [8121] son-in-law. The Song(2) in-laws had contempt for him, but Zongs patron, Wang(2) Huaji [8150], said that he would be rich and distinguished after 30 years. The prediction came true. XCB, 100.8b, 106.15b, 107.6a, 110.10b, 16a, 131.10a; SHY:ZG, 64.29b-30a; SS, 291.23b-25a. CBD, 1, 244.\\x7f', 0, 0, None, None, None, None, None, None, None, None, None, None, None, None, 'TTS', '20070312', 'BDQKH', '20081115', 1, 15, 'Song', '宋', 960, 1279, 66)\n",
            "Record12: \n",
            "(1908, '參政;知政事;參;大參;參大政;參機政;參鬷嘏;首參;相公;參預政事;參預', '參知政事', 2059, 1908, 'Wang Ciweng', '王次翁', 1079, '01', None, 0, 100584, 1, 0, 0, None, 1079, 529, 2, None, 1149, 541, 19, None, 71, None, None, 0, None, None, None, 0, None, None, 'Wang', '王', 'Ciweng', '次翁', 15, 20, \"Wang(2) Ciweng [1908] Since Cizhang [1907] and Ciweng's fathers and grandfathers had the same generational name, had the same great grandfather and moved South from the same address, they must have belonged to the same root lineage which had two branches that settled in the neighboring Southern Hangzhou Bay Littoral prefectures. XNYL, 131.3b, 8a, 134.8a, 160.13a; Bao Siming, 8.28a; SS, 380.3a-3b. CBD, 1, 273-5.\\x7f\\x7f\", 0, 0, None, None, None, None, None, None, None, None, None, None, None, None, 'TTS', '20070312', 'BDQKH', '20081115', 1, 15, 'Song', '宋', 960, 1279, 66)\n",
            "Record13: \n",
            "(1919, '參政;知政事;參;大參;參大政;參機政;參鬷嘏;首參;相公;參預政事;參預', '參知政事', 2070, 1919, 'Wang Yaochen', '王堯臣', 1003, '01', None, 0, 11223, 1, 0, 0, None, 1003, 513, 6, 0, 1058, 526, 3, None, 56, None, None, 0, None, None, None, 0, None, None, 'Wang', '王', 'Yaochen', '堯臣', 15, 20, \"Wang(2) Yaochen [1919] Jinshi # 1. His ancestors were Taiyuan jun Wang(2). Du's [3986] son, Tonglao's [1888] father, Tinglao's [1887] father or uncle. Zhichen's [1785] elder cousin, Qinzhen's [1767] cousin, father-in-law of Qi(1) Lun's [134] grandson, Shidao [3030]. His uncles, Huan [3957] and Yan(a) [3992], were the successive father-in-laws of Cai(1) Ting [1661] and Huan was the grandfather of Cai(1) Yanqing's [1662] wife. She was the product of the union between Huan's son Taiyuan Wang(2) Xianchen [3954], and a Longxi Li(2) Shi, two of the 'aristocratic' lineages (wangzu) of Songzhou. Duanchen [1906] had the same generational name as Yaochen(1)'s cousins. Zhu(1) Yanzhi [3266], probable kin of Zhu(1) Sun [521] and Zhu(1) Mingzhi [526] married the daughter of Wang(2) Dingchen [3983] after his first wife, Shen(2) Li's [1452] daughter, died at an early age. Dingchen has the same generational name as Yaochen's cousins. Fan Zuyu, WJ, 39.16b; XCB, 117.15b, 140.8a, 158.1a; HSSCGY, 4.8b; Liu Chang, WJ, 51.5a-11b; Ouyang Xiu, WJ, 32.1a-3b; SS, 292.19b; Song Qi, WJ, 31.1a. CBD, 1, 342-3.\", 0, 0, None, 8, None, None, None, None, None, None, None, None, None, None, 'TTS', '20070312', None, None, 1, 15, 'Song', '宋', 960, 1279, 66)\n",
            "Record14: \n",
            "(1925, '參政;知政事;參;大參;參大政;參機政;參鬷嘏;首參;相公;參預政事;參預', '參知政事', 2076, 1925, 'Wang Yan', '王炎', 1115, '01', None, 0, 100179, 1, 0, 0, None, 1115, 0, None, None, 1178, 0, None, None, 64, None, None, 0, None, None, None, 0, None, None, 'Wang', '王', 'Yan', '炎', 15, 0, \"Wang Yan [1925] Tao's [3980] son. Yan served in State council in 1169-1173. See also documentation for Father, Tao and lineage kin, Jing [12121]. Zhou Bida, WJ, 29.19a; XNYL, 172.1a, 200.3b; Xianchun Linan zhi, 50.7b; XZZTJ, 139.17b; SHY:ZG, 70.44a, 73.28b. CBD, 1, 126-127.From Hartwell's ACTIVITY table:1166:  Term of duty over as Liangzhe yunfu.1168:  Apt. Jianshu Shumi yuan shi (State Council).1169:  Promoted to Zhi Shumi yuan shi.1173:  Apt. to a temple sinecure.\\x7f\", 0, 0, None, None, None, None, None, None, None, None, None, None, None, None, 'TTS', '20070312', 'BDQKH', '20081025', 1, 15, 'Song', '宋', 960, 1279, 66)\n",
            "Record15: \n",
            "(3966, '參政;知政事;參;大參;參大政;參機政;參鬷嘏;首參;相公;參預政事;參預', '參知政事', 3199, 3966, 'Wang Lin', '王藺', 1139, '05', None, 0, 100160, 1, 0, 0, None, None, 0, None, None, None, 0, None, None, None, None, None, 0, None, None, None, 0, None, None, 'Wang', '王', 'Lin', '藺', 15, 0, \"Wang(2) Lin [3966] See documentation for father, Zhidao [1786]. CBD, 1, 237-8.From Hartwell's ACTIVITY table:1189:  Apt. Canzhi zhengshi (State Council)1189:  Apt. concurrent Zhi Shumi yuan shi1190:  Promoted to Shumi yuan shi\\x7f\", 0, 0, None, None, None, None, None, None, None, None, None, None, None, None, 'TTS', '20070312', 'BDQKH', '20081114', 1, 15, 'Song', '宋', 960, 1279, 66)\n",
            "Record16: \n",
            "(8145, '參政;知政事;參;大參;參大政;參機政;參鬷嘏;首參;相公;參預政事;參預', '參知政事', 4291, 8145, 'Wang Juzheng', '王舉正', 974, '11', 8150, 0, 11705, 1, 0, 0, None, None, 0, None, None, None, 0, None, None, 70, None, 1049, 524, 1, '皇祐初拜御史中丞。', None, 0, None, None, 'Wang', '王', 'Juzheng', '舉正', 15, 20, \"Wang(2) Juzheng [8145] Huaji's [8150] son, Juyuan's [1795] brother, Yue(1)'s [1933] and Hui's [1821] father , Zhao(1)'s [1773] uncle. Zu(1) Wuze's [1717] wife was his eldest daughter. His brother Jushan's [3945] daughter was the wife of Sheng(1) Du's [8109] elder cousin Jing's [3739] son, Zunfu [3743]. Jushan's wife was Zhang(1) Qixian's [183] daughter. CBD, 1, 371-2.\", 0, 0, None, None, None, None, None, None, None, None, None, None, None, None, 'TTS', '20070312', None, None, 1, 15, 'Song', '宋', 960, 1279, 66)\n",
            "Record17: \n",
            "(8150, '參政;知政事;參;大參;參大政;參機政;參鬷嘏;首參;相公;參預政事;參預', '參知政事', 4296, 8150, 'Wang Huaji', '王化基', 944, '01', None, 0, 11705, 1, 0, 0, None, 944, 436, 1, None, 1010, 515, 3, None, 67, None, None, 0, None, None, None, 0, None, None, 'Wang', '王', 'Huaji', '化基', 15, 20, \"Wang(2) Huaji [8150] Juzheng's [8145] and Juyuan's [1795] father, Zhao(1)'s [1773], Hui(1)'s [1821], and Yue(1)'s [1933] grandfather, Shou's [1876] great grandfather. Wang(2) Zong's [1093] patron. Huaji's great grandson-in-law was Cai(1) Jing's [1649] grandson, Qu [3852]. CBD, 1, 267.\\x7f\\x7f\", 0, 0, None, None, None, None, None, None, None, None, None, None, None, None, 'TTS', '20070312', 'BDQKH', '20081115', 1, 15, 'Song', '宋', 960, 1279, 66)\n",
            "Record18: \n",
            "(8152, '宰;相;千歲;二三大臣;大丞相;丞相;元臺;鳳池;中堂;臺輔;臺司;臺官;臺席;老鳳;當國;當軸;時宰;時相;國老;國鈞;秉鈞;國相;相公;相君;相國;秉衡鈞;鈞衡;冢司;宰司;冢宰;宰臣;宰府;真宰;宰席;調鼎;宰路;常伯;登庸;揆席;道揆;鼎席;貂嬋;鼎鼐;夔龍;夔', '宰相', 4298, 8152, 'Wang Pu', '王溥', 922, '01', None, 0, 12226, 1, 0, 0, None, 922, 0, None, None, 982, 508, 7, None, 61, None, 959, 0, None, '右僕射（拜命 恭帝時）', 976, 508, 1, '祁國公（拜命 宋太宗太平興國初）', 'Wang', '王', 'Pu', '溥', 15, 20, \"Wang(2) Pu(2) [8152] Yiyong's [1829] grandfather. Wudai jiangxiang dachen nianbiao (ESWSBB). CBD, 1, 186-7.From Hartwell's ACTIVITY table:956:  Apt. Tong Zhongshu menxia Pingzhang shi (an office he held into Song)\\x7f 《唐代人物知識ベース》記其生卒年為：922 - 982.\", 0, 0, None, None, None, None, None, None, None, None, None, None, None, None, 'TTS', '20070312', 'BDQKH', '20081108', 1, 15, 'Song', '宋', 960, 1279, 66)\n",
            "Record19: \n",
            "(8153, '參政;知政事;參;大參;參大政;參機政;參鬷嘏;首參;相公;參預政事;參預', '參知政事', 4299, 8153, 'Wang Dan', '王旦', 957, '01', None, 0, 100658, 1, 0, 0, None, 957, 441, 4, None, 1017, 516, 1, None, 61, None, None, 0, None, None, None, 0, None, None, 'Wang', '王', 'Dan', '旦', 15, 20, \"Wang(2) Dan [8153] Hu's [3956] son, Yong(1)'s [7091] and Su's [1881] father, Zhi(2)'s [7079] uncle, Jing's [1788], Yuan's [7385], Gong's [7084], and Shuo's [1870] grandfather, Gu's [1840] and Yi(5)'s [7377] great grandfather, and Lun(2)'s [8178] great great grandfather. Zhen(2) [1776] was the son of the grandson of Dan's granduncle, Xiu [3955]. Fan(2) Chunren [559] was the husband of his grandniece. Dan was Han(1) Yi(2)'s [8049], Su(1) Qi's [1490], Fan(2) Lingsun's [7025] and Lu(9) Gongbi's [1316] father-in-law. He was the maternal grandfather of Han(1) Jiang's [636] wife, who was Fan(2) Zhi's [8041] great granddaughter. A sixth generation descendant, Yan(b) [3993], was Tiju Fujian shibo in 1224. Zhang Fangping, WJ, 39.18b; Fujian TZ, 32.17b; XCB, 103.2a; Ouyang Xiu, WJ, 22.1a-4b. CBD, 1, 109-110.\\x7f\", 0, 0, None, 9, None, None, None, None, None, None, None, None, None, None, 'TTS', '20070312', 'BDQKH', '20081024', 1, 15, 'Song', '宋', 960, 1279, 66)\n",
            "Record20: \n",
            "(10697, '參政;知政事;參;大參;參大政;參機政;參鬷嘏;首參;相公;參預政事;參預', '參知政事', 5154, 10697, 'Wang Huai', '王淮', 1126, '01', None, 0, 12785, 1, 0, 0, None, 1126, 539, 1, 0, 1189, 544, 16, None, 64, 0, None, 0, None, None, None, 0, None, None, 'Wang', '王', 'Huai', '淮', 15, 20, \"Wang(2) Huai [10697] Yang Wanli, WJ, 120.20a; Lou Yue, 87.1a-20a. Huai attacked daoxue because he disliked Zhu(1) Xi [3257] and some trace the Qingyuan purges to this. Stunning example of cross-cousin marriage--two of his grandsons-in-law were the only two sons, Yao(1) Yuante [10753] and Yuanzhe [10754], of his son-in-law, Yao(1) Ying [10752]. Jinhua XZ, 6.3b (juren in 1144). CBD, 1, 159-160.From Hartwell's ACTIVITY table:1175:  (run mo.) Apt Jianshu Shumi yuan shi (State Council).1176:  Apt. Tongzhi Shumi yuan shi.1177:  Apt. Canzhi zhengshi.1178:  Apt. Zhi Shumi yuan shi.1178:  Apt. Shumi shi.1181:  Apt. You chengxiang (Chief minister).1188:  Out as You chengxiang (Chief Minister) and prefect of Quzhou (Zhejiang).\", 0, 0, None, None, None, None, None, None, None, None, None, None, None, None, 'TTS', '20070312', None, None, 1, 15, 'Song', '宋', 960, 1279, 66)\n",
            "Record21: \n",
            "(10697, '昭文相公;首相;首廳', '同中書門下平章事、昭文館大學士、監修國史', 5154, 10697, 'Wang Huai', '王淮', 1126, '01', None, 0, 12785, 1, 0, 0, None, 1126, 539, 1, 0, 1189, 544, 16, None, 64, 0, None, 0, None, None, None, 0, None, None, 'Wang', '王', 'Huai', '淮', 15, 20, \"Wang(2) Huai [10697] Yang Wanli, WJ, 120.20a; Lou Yue, 87.1a-20a. Huai attacked daoxue because he disliked Zhu(1) Xi [3257] and some trace the Qingyuan purges to this. Stunning example of cross-cousin marriage--two of his grandsons-in-law were the only two sons, Yao(1) Yuante [10753] and Yuanzhe [10754], of his son-in-law, Yao(1) Ying [10752]. Jinhua XZ, 6.3b (juren in 1144). CBD, 1, 159-160.From Hartwell's ACTIVITY table:1175:  (run mo.) Apt Jianshu Shumi yuan shi (State Council).1176:  Apt. Tongzhi Shumi yuan shi.1177:  Apt. Canzhi zhengshi.1178:  Apt. Zhi Shumi yuan shi.1178:  Apt. Shumi shi.1181:  Apt. You chengxiang (Chief minister).1188:  Out as You chengxiang (Chief Minister) and prefect of Quzhou (Zhejiang).\", 0, 0, None, None, None, None, None, None, None, None, None, None, None, None, 'TTS', '20070312', None, None, 1, 15, 'Song', '宋', 960, 1279, 66)\n",
            "Record22: \n",
            "(20099, '參政;知政事;參;大參;參大政;參機政;參鬷嘏;首參;相公;參預政事;參預', '參知政事', 14447, 20099, 'Wang Boda', '王伯大', 1190, '29', None, 0, 13873, 1, 0, 0, None, None, 0, None, None, 1253, 555, 1, None, None, None, 1214, 549, 7, None, None, 0, None, None, 'Wang', '王', 'Boda', '伯大', 15, 0, \"Wang(2) Boda [20099] Fujian TZ, 149.44a; Sanshan zhi, 31.45b. CBD, 1, 299.From Hartwell's ACTIVITY table:1248:  Apt. Cabzhi zhengshi (State Council) and then immediately made prefect of Jianning fu.\\x7f\", 0, 0, None, None, None, None, None, None, None, None, None, None, None, None, 'TTS', '20070312', 'BDQKH', '20081121', 1, 15, 'Song', '宋', 960, 1279, 66)\n"
          ]
        }
      ]
    },
    {
      "cell_type": "code",
      "metadata": {
        "id": "j8pLg9S-QWzt",
        "colab": {
          "base_uri": "https://localhost:8080/"
        },
        "outputId": "17c49d2c-666a-419a-9712-fb1f48fe52f2"
      },
      "source": [
        "# Example: Get person by surname + office + dynasty\n",
        "surname = \"刘\"\n",
        "office = \"运使\"\n",
        "dynasty = \"宋\"\n",
        "get_person_by_surname_and_office(surname, office, dynasty)"
      ],
      "execution_count": 12,
      "outputs": [
        {
          "output_type": "stream",
          "name": "stdout",
          "text": [
            "select * from (select * from (select distinct(c_personid), OFFICE_CODES.c_office_chn_alt, OFFICE_CODES.c_office_chn from POSTED_TO_OFFICE_DATA JOIN OFFICE_CODES on POSTED_TO_OFFICE_DATA.c_office_id=OFFICE_CODES.c_office_id where OFFICE_CODES.c_office_chn_alt like '%運使%' or OFFICE_CODES.c_office_chn like '%運使%') tmp_db LEFT JOIN BIOG_MAIN on BIOG_MAIN.c_personid=tmp_db.c_personid where BIOG_MAIN.c_surname_chn= '劉') tmp_db2 LEFT JOIN DYNASTIES on tmp_db2.c_dy=DYNASTIES.c_dy where DYNASTIES.c_dynasty_chn='宋';\n",
            "Record1: \n",
            "(1181, '發運;部使者', '發運使', 1369, 1181, 'Liu Chengyan', '劉承顏', None, '', None, 0, 0, 1, 0, 0, None, None, 0, None, None, None, 0, None, None, None, None, None, 0, None, None, None, 0, None, None, 'Liu', '劉', 'Chengyan', '承顏', 15, 0, 'Liu(2) Chengyan [1181] XCB, 107.6b, 114.17b.', 0, 0, None, None, None, None, None, None, None, None, None, None, None, None, 'TTS', '20070312', None, None, 0, 15, 'Song', '宋', 960, 1279, 66)\n",
            "Record2: \n",
            "(1182, '計使', '轉運使', 1370, 1182, 'Liu Chu', '劉楚', 1181, '05', None, 0, 0, 1, 0, 0, None, None, 0, None, None, None, 0, None, None, None, None, None, 0, None, None, None, 0, None, None, 'Liu', '劉', 'Chu', '楚', 15, 0, 'Liu(2) Chu [1182] XCB, 91.10a, 95.16b, 96.2a, 108.8b; SHY:ZG, 64.26a.', 0, 0, None, None, None, None, None, None, None, None, None, None, None, None, 'TTS', '20070312', None, None, 0, 15, 'Song', '宋', 960, 1279, 66)\n",
            "Record3: \n",
            "(1184, '計使', '轉運使', 1372, 1184, 'Liu Zhao', '劉照', None, '', None, 0, 0, 1, 0, 0, None, None, 0, None, None, None, 0, None, None, None, None, None, 0, None, None, None, 0, None, None, 'Liu', '劉', 'Zhao', '照', 15, 0, 'Liu(2) Zhao [1184] Fujian TZ.', 0, 0, None, None, None, None, None, None, None, None, None, None, None, None, 'TTS', '20070312', None, None, 0, 15, 'Song', '宋', 960, 1279, 66)\n",
            "Record4: \n",
            "(1185, '計使', '轉運使', 1373, 1185, 'Liu Zhao(2)', '劉炤', 1184, '05', 3602, 0, 100409, 1, 0, 0, None, None, 0, None, None, None, 0, None, None, None, None, None, 0, None, None, None, 0, None, None, 'Liu', '劉', 'Zhao(2)', '炤', 15, 48, \"Liu(2) Zhao(2) [1185] His father, Wensou [3602], was appointed to his first office under the Later Tang in 934-5 and subsequently served in the administrations of the Later Jin, Later Han, Later Zhou and Song. Zhao(2) was given office when his father died. Ye's [1251] brother. His sister's husband was Fan(2) Gao [7024]. XCB, 71.24a; SS, 262.23a. CBD, 5, 3858.\\x7f\", 0, 0, None, None, None, None, None, None, None, None, None, None, None, None, 'TTS', '20070312', 'BDZWZ', '20081122', 1, 15, 'Song', '宋', 960, 1279, 66)\n",
            "Record5: \n",
            "(1188, None, '都轉運使', 1376, 1188, 'Liu Jin', '劉瑾', 1025, '11', 8090, 0, 12953, 1, 0, 0, None, None, 0, None, None, None, 0, None, None, None, None, None, 0, None, None, None, 0, None, None, 'Liu', '劉', 'Jin', '瑾', 15, 0, \"Liu(2) Jin [1188] Hang(2)'s [8090] (q.v.) son, Guan(1)'s [1205] brother. XCB, 214.7a, 247.20a, 250.4a, 253.1a. CBD, 5, 3896.\\x7f\", 0, 0, None, None, None, None, None, None, None, None, None, None, None, None, 'TTS', '20070312', 'BDLYH', '20081122', 1, 15, 'Song', '宋', 960, 1279, 66)\n",
            "Record6: \n",
            "(1188, '運副;副使;運使;佐漕;貳漕', '轉運副使', 1376, 1188, 'Liu Jin', '劉瑾', 1025, '11', 8090, 0, 12953, 1, 0, 0, None, None, 0, None, None, None, 0, None, None, None, None, None, 0, None, None, None, 0, None, None, 'Liu', '劉', 'Jin', '瑾', 15, 0, \"Liu(2) Jin [1188] Hang(2)'s [8090] (q.v.) son, Guan(1)'s [1205] brother. XCB, 214.7a, 247.20a, 250.4a, 253.1a. CBD, 5, 3896.\\x7f\", 0, 0, None, None, None, None, None, None, None, None, None, None, None, None, 'TTS', '20070312', 'BDLYH', '20081122', 1, 15, 'Song', '宋', 960, 1279, 66)\n",
            "Record7: \n",
            "(1189, '計使', '轉運使', 1377, 1189, 'Liu Jing', '劉京', None, '', None, 0, 0, 1, 0, 0, None, None, 0, None, None, None, 0, None, None, None, None, None, 0, None, None, None, 0, None, None, 'Liu', '劉', 'Jing', '京', 15, 0, 'Liu(2) Jing [1189] SHY:ZG, 64.49b; SHY:SH, 49.14a-14b.', 0, 0, None, None, None, None, None, None, None, None, None, None, None, None, 'TTS', '20070312', None, None, 0, 15, 'Song', '宋', 960, 1279, 66)\n",
            "Record8: \n",
            "(1194, '運副;副使;運使;佐漕;貳漕', '轉運副使', 1382, 1194, 'Liu Fang(2)', '劉昉', 1094, '05', None, 0, 100417, 1, 0, 0, None, None, 0, None, None, None, 0, None, None, None, None, None, 0, None, None, None, 0, None, None, 'Liu', '劉', 'Fang(2)', '昉', 15, 0, 'Liu(2) Fang(2) [1194] XNYL, 137.10a; Guangdong TZ, 66.23a. CBD, 5, 3852-3.\\x7f', 0, 0, None, None, None, None, None, None, None, None, None, None, None, None, 'TTS', '20070312', 'BDZWZ', '20081122', 1, 15, 'Song', '宋', 960, 1279, 66)\n",
            "Record9: \n",
            "(1196, '計使', '轉運使', 1384, 1196, 'Liu Fuying', '劉甫英', None, '', None, 0, 0, 1, 0, 0, None, None, 0, None, None, None, 0, None, None, None, None, None, 0, None, None, None, 0, None, None, 'Liu', '劉', 'Fuying', '甫英', 15, 0, 'Liu(2) Fuying [1196] SHY:SH, 49.5b.', 0, 0, None, None, None, None, None, None, None, None, None, None, None, None, 'TTS', '20070312', None, None, 0, 15, 'Song', '宋', 960, 1279, 66)\n",
            "Record10: \n",
            "(1197, '計使', '轉運使', 1385, 1197, 'Liu Hang', '劉航', 1008, '05', None, 0, 11551, 1, 0, 0, None, None, 0, None, None, None, 0, None, None, None, None, None, 0, None, None, None, 0, None, None, 'Liu', '劉', 'Hang', '航', 15, 0, \"Liu(2) Hang [1197] Anshi's [7045] father, Boying's [1223] grandfather. XCB, 247.20a, 251.14a, 253.4a-4b; SHY:ZG, 23.8b, 8b-9a; DDSL, 94.2b. CBD, 5, 3870.\\x7f\", 0, 0, None, None, None, None, None, None, None, None, None, None, None, None, 'TTS', '20070312', 'BDZWZ', '20081122', 1, 15, 'Song', '宋', 960, 1279, 66)\n",
            "Record11: \n",
            "(1198, '發運;部使者', '發運使', 1386, 1198, 'Liu He', '劉何', None, '', None, 0, 0, 1, 0, 0, None, None, 0, None, None, None, 0, None, None, None, None, None, 0, None, None, None, 0, None, None, 'Liu', '劉', 'He', '何', 15, 0, 'Liu(2) He [1198] XCB, 349.10b; SHY:ZG, 68.12a-12b. CBD, 5, 3849.\\x7f', 0, 0, None, None, None, None, None, None, None, None, None, None, None, None, 'TTS', '20070312', 'BDZWZ', '20081122', 1, 15, 'Song', '宋', 960, 1279, 66)\n",
            "Record12: \n",
            "(1198, '運副;副使;運使;佐漕;貳漕', '轉運副使', 1386, 1198, 'Liu He', '劉何', None, '', None, 0, 0, 1, 0, 0, None, None, 0, None, None, None, 0, None, None, None, None, None, 0, None, None, None, 0, None, None, 'Liu', '劉', 'He', '何', 15, 0, 'Liu(2) He [1198] XCB, 349.10b; SHY:ZG, 68.12a-12b. CBD, 5, 3849.\\x7f', 0, 0, None, None, None, None, None, None, None, None, None, None, None, None, 'TTS', '20070312', 'BDZWZ', '20081122', 1, 15, 'Song', '宋', 960, 1279, 66)\n",
            "Record13: \n",
            "(1199, '計使', '轉運使', 1387, 1199, 'Liu Xi', '劉錫', 938, '29', None, 0, 0, 1, 0, 0, None, None, 0, None, None, 1001, 0, None, None, 0, None, None, 0, None, None, None, 0, None, None, 'Liu', '劉', 'Xi', '錫', 15, 0, 'Liu(2) Xi [1199] XCB, 23.6b, 35.6b, 48.17a; SHY:ZG, 5.65a; SHY:SH, 49.4a-4b; TZHDSL, 76.16a.', 0, 0, None, None, None, None, None, None, None, None, None, None, None, None, 'TTS', '20070312', None, None, 0, 15, 'Song', '宋', 960, 1279, 66)\n",
            "Record14: \n",
            "(1200, '計使', '轉運使', 1388, 1200, 'Liu Xiang', '劉庠', 1023, '01', None, 0, 11243, 1, 0, 0, None, 1023, 0, None, None, 1086, 530, 1, None, 64, None, None, 0, None, None, None, 0, None, None, 'Liu', '劉', 'Xiang', '庠', 15, 17, \"Liu(2) Xiang [1200] His ancestors were Pengcheng jun Liu(2). Yan's [3603] son, Cai(1) Qi's [1646] son-in-law. XCB, 100.14a, 212.6b, 215.10b, 219.8b, 222.8a, 371.14a; Lu Tao, WJ, 21.1a-13b. CBD, 5, 3856-7.\\x7f\", 0, 0, None, None, None, None, None, None, None, None, None, None, None, None, 'TTS', '20070312', 'BDZWZ', '20081122', 1, 15, 'Song', '宋', 960, 1279, 66)\n",
            "Record15: \n",
            "(1207, '計使', '轉運使', 1395, 1207, 'Liu Lizhi', '劉立之', 978, '05', None, 0, 100658, 1, 0, 0, None, None, 0, None, None, None, 0, None, None, 64, None, None, 0, None, None, None, 0, None, None, 'Liu', '劉', 'Lizhi', '立之', 15, 17, \"Liu(2) Lizhi [1207] The family had lived for generations in Linjiang, but its pedigree (wang) was Pengcheng jun. From at least Lizhi on, members of this lineage buried in Kaifeng, Xiangfu county (modern Kaifeng county), which suggests that it was probably father, Shi [1226], who moved his branch of the lineage to Kaifeng at the beginning of Song. Lili's [1208] and Lide's [1209] brother, Ban's [1220] father, Zhang(1) Feng's [7011] father-in-law. His son Chang's [3580] sons included Fengshi [1195] and Dangshi [1235]. Chang was Han(1) Zongzhi's [659] father-in-law. XCB, 161.3b; Liu Chang, WJ, 51.23b-35b; Ouyang Xiu, WJ, 29.1a, 35.4a; SS, 261.14b. CBD, 5, 3932.\\x7f\", 0, 0, None, None, None, None, None, None, None, None, None, None, None, None, 'TTS', '20070312', 'BDLYH', '20081122', 1, 15, 'Song', '宋', 960, 1279, 66)\n",
            "Record16: \n",
            "(1208, '計使', '轉運使', 1396, 1208, 'Liu Lili', '劉立禮', 994, '05', None, 0, 100658, 1, 0, 0, None, None, 0, None, None, None, 0, None, None, None, None, None, 0, None, None, None, 0, None, None, 'Liu', '劉', 'Lili', '立禮', 15, 17, \"Liu(2) Lili [1208] Shi's [1226] son, Lizhi's [1207] and Lide's [1209] brother, Yannian's [1233] grandfather. Jiangxi TZ, 21.11b; XCB, 120.14a; SS, 267.14b. CBD, 5, 3933.\\x7f\\x7f\", 0, 0, None, None, None, None, None, None, None, None, None, None, None, None, 'TTS', '20070312', 'BDLYH', '20081010', 1, 15, 'Song', '宋', 960, 1279, 66)\n",
            "Record17: \n",
            "(1209, '計使', '轉運使', 1397, 1209, 'Liu Lide', '劉立德', 989, '05', None, 0, 100658, 1, 0, 0, None, None, 0, None, None, None, 0, None, None, None, None, None, 0, None, None, None, 0, None, None, 'Liu', '劉', 'Lide', '立德', 15, 17, \"Liu(2) Lide [1209] Shi's [1226] son, Lizhi's [1207] and Lili's [1208] brother. Jiangxi TZ, 21.11a; XCB, 187.8b; SS, 267.14b. CBD, 5, 3932-3.\\x7f\", 0, 0, None, None, None, None, None, None, None, None, None, None, None, None, 'TTS', '20070312', 'BDLYH', '20081122', 1, 15, 'Song', '宋', 960, 1279, 66)\n",
            "Record18: \n",
            "(1210, '運副;副使;運使;佐漕;貳漕', '轉運副使', 1398, 1210, 'Liu Meng', '劉蒙', 1069, '14', None, 0, 13433, 1, 0, 0, None, None, 0, None, None, None, 0, None, None, None, None, None, 0, None, None, None, 0, None, None, 'Liu', '劉', 'Meng', '蒙', 15, 0, 'Liu(2) Meng [1210] Jiangxi TZ, 9.40a; XNYL, 9.3a, 21.12b, 33.1a; Xianchun Linan zhi, 50.3b; SHY:ZG, 43.138b, 69.1a, 70.5b; Wang Zao, WJ, 12.8b-9a. See documentation in 1148 jinshi list, wujia #31, for probable grandson, Wei(7) [23732]. No information on employment in 1148 jinshi list, but chronology fits perfectly. He was the founder of the family (weihu) and may have moved here from somewhere else since purged for a time for opposition to the xinfa.', 0, 0, None, None, None, None, None, None, None, None, None, None, None, None, 'TTS', '20070312', None, None, 0, 15, 'Song', '宋', 960, 1279, 66)\n",
            "Record19: \n",
            "(1212, '運副;副使;運使;佐漕;貳漕', '轉運副使', 1400, 1212, 'Liu Minzhan', '劉民詹', 1064, '11', 1254, 0, 11523, 1, 0, 0, None, None, 0, None, None, None, 0, None, None, None, None, None, 0, None, None, None, 0, None, None, 'Liu', '劉', 'Minzhan', '民詹', 15, 0, \"Liu(2) Minzhan [1212] Yu(2)'s [1254] son. XNYL, 54.5b.\", 0, 0, None, None, None, None, None, None, None, None, None, None, None, None, 'TTS', '20070312', None, None, 0, 15, 'Song', '宋', 960, 1279, 66)\n",
            "Record20: \n",
            "(1214, '計使', '轉運使', 1402, 1214, 'Liu Mingshu', '劉明恕', 975, '23', None, 0, 0, 1, 0, 0, None, None, 0, None, None, None, 0, None, None, None, None, None, 0, None, None, None, 0, None, None, 'Liu', '劉', 'Mingshu', '明恕', 15, 0, \"Liu(2) Mingshu [1214] Zhang(1) Youzhi's [326] father-in-law. XCB, 102.4a. CBD, 5, 3963.\\x7f\", 0, 0, None, None, None, None, None, None, None, None, None, None, None, None, 'TTS', '20070312', 'BDLYH', '20081011', 1, 15, 'Song', '宋', 960, 1279, 66)\n",
            "Record21: \n",
            "(1217, '運副;副使;運使;佐漕;貳漕', '轉運副使', 1405, 1217, 'Liu Ningzhi', '劉寧止', 1091, '05', None, 0, 12716, 1, 0, 0, None, None, 0, None, None, None, 0, None, None, None, None, None, 0, None, None, None, 0, None, None, 'Liu', '劉', 'Ningzhi', '寧止', 15, 17, \"Liu(2) Shu [1230] Uncle of Ningzhi's [1217] father, Gong [3597]. Liu(2) Anzhi [3579] (CBD, based on Zhao(1) Dingchen, has mingzi as Anzheng, thereby creating great confusion) was Wang(2) Anli's [1760] son-in-law. Anzhi's wife was the sister of Zhao(1) Dingchen's [395] wife. Shu's son-in-law, Chen(1) Shu [3082], was the father-in-law of Pan(1) Jinggui's [1386] father, Haogu [3692]. Liu Yizhi, WJ, 51.12b-15b (wife, born Fu(5), who died in 1118 at age 78 [has information on jiafa; she was well-educated at age 18--this was second marriage after marrying a Shi(4)]; Zhao Dingchen, WJ, 18.5a; XCB, 209.11b; SHY:ZG, 65.23a; SS, 321.14b-15a; Wang Zao, WJ, 25.15a; Wuxing zhi, 17.4a. CBD, 5, 3858-9.\\x7f\", 0, 0, None, None, None, None, None, None, None, None, None, None, None, None, 'TTS', '20070312', 'BDQKH', '20081220', 1, 15, 'Song', '宋', 960, 1279, 66)\n",
            "Record22: \n",
            "(1218, None, '陸路發運使', 1406, 1218, 'Liu Pan', '劉蟠', 919, '01', None, 0, 100432, 1, 0, 0, None, 919, 0, None, None, 991, 511, 2, None, 73, None, None, 0, None, None, None, 0, None, None, 'Liu', '劉', 'Pan', '蟠', 15, 0, \"Liu(2) Pan [1218] Jie's [1203] father. XCB, 24.13a-13b, 28.9a; SHY:ZG, 42.15b; SHY:SH, 49.5b, 6b; TZHDSL, 26.10b. CBD, 5, 3910.\\x7f\", 0, 0, None, None, None, None, None, None, None, None, None, None, None, None, 'TTS', '20070312', 'BDLYH', '20081122', 1, 15, 'Song', '宋', 960, 1279, 66)\n",
            "Record23: \n",
            "(1218, '計使', '轉運使', 1406, 1218, 'Liu Pan', '劉蟠', 919, '01', None, 0, 100432, 1, 0, 0, None, 919, 0, None, None, 991, 511, 2, None, 73, None, None, 0, None, None, None, 0, None, None, 'Liu', '劉', 'Pan', '蟠', 15, 0, \"Liu(2) Pan [1218] Jie's [1203] father. XCB, 24.13a-13b, 28.9a; SHY:ZG, 42.15b; SHY:SH, 49.5b, 6b; TZHDSL, 26.10b. CBD, 5, 3910.\\x7f\", 0, 0, None, None, None, None, None, None, None, None, None, None, None, None, 'TTS', '20070312', 'BDLYH', '20081122', 1, 15, 'Song', '宋', 960, 1279, 66)\n",
            "Record24: \n",
            "(1219, '計使', '轉運使', 1407, 1219, 'Liu Ping', '劉平', 977, '2312', 20345, 0, 100658, 1, 0, 0, None, None, 0, None, None, None, 0, None, None, None, None, None, 0, None, None, None, 0, None, None, 'Liu', '劉', 'Ping', '平', 15, 0, \"Liu(2) Ping [1219] Sui's [1232] brother, affinal kin of Chen(1) Guan [67]. XCB, 93.11b, 94.6a, 6b, 101.1a; SS, 325.1a-1b. CBD, 5, 3841.\\x7f\", 0, 0, None, None, None, None, None, None, None, None, None, None, None, None, 'TTS', '20070312', 'BDZWZ', '20081122', 1, 15, 'Song', '宋', 960, 1279, 66)\n",
            "Record25: \n",
            "(1220, '計使', '轉運使', 1408, 1220, 'Liu Ban', '劉攽', 1016, '05', None, 0, 100658, 1, 0, 0, None, None, 0, None, None, None, 0, None, None, 67, None, None, 0, None, None, None, 0, None, None, 'Liu', '劉', 'Ban', '攽', 15, 17, \"Liu(2) Ban [1220] Shi's [1226] grandson, Lizhi's [1207] son, Fangshan's [7292] father, Chang's [3580] younger brother, Han(1) Zong(1)'s [657] son-in-law. His youngest brother's father-in-law was Zhang(1) Mian's [262] (qv.) nephew, Yi(3) [3148]. Jiangxi TZ, 21.15b; XCB, 301.13a, 303.3a-3b, 423.1b; SHY:ZG, 66.25b. CBD, 5, 3853-4.\\x7f\", 0, 0, None, None, None, None, None, None, None, None, None, None, None, None, 'TTS', '20070312', 'BDZWZ', '20081122', 1, 15, 'Song', '宋', 960, 1279, 66)\n",
            "Record26: \n",
            "(1221, '計使', '轉運使', 1409, 1221, 'Liu Baoxun', '劉保勳', 925, '01', None, 0, 100409, 1, 0, 0, None, 925, 0, None, None, 986, 0, None, None, 62, None, None, 0, None, None, None, 0, None, None, 'Liu', '劉', 'Baoxun', '保勳', 15, 0, 'Liu(2) Baoxun [1221] Jiangxi TZ, 9.7a; XCB, 20.3a, 5b, 23.1b-2a; SHY:ZG, 5.38a; SHY:SH, 49.5a; SS, 276.1a-1b; TZHDSL, 26.2a. CBD, 5, 3969-70.\\x7f', 0, 0, None, None, None, None, None, None, None, None, None, None, None, None, 'TTS', '20070312', 'BDLYH', '20081011', 1, 15, 'Song', '宋', 960, 1279, 66)\n",
            "Record27: \n",
            "(1225, '計使', '轉運使', 1413, 1225, 'Liu Chen', '劉忱', 998, '11', 1251, 0, 100409, 1, 0, 0, None, None, 0, None, None, None, 0, None, None, None, None, None, 0, None, None, None, 0, None, None, 'Liu', '劉', 'Chen', '忱', 15, 48, \"Liu(2) Chen [1225] Ye's [1251] fourth son, Tanglao's [3601] father, affinal relation of Cheng(1) Zhicai [113]. XCB, 213.12a, 251.22a, 296.2a, 300.13b, 304.13b, 306.2b, 449.9a, 468.16b, 476.9b, 477.2b; Songshi yi, 4.2a. CBD, 5, 3847.\\x7f\", 0, 0, None, None, None, None, None, None, None, None, None, None, None, None, 'TTS', '20070312', 'BDZWZ', '20081122', 1, 15, 'Song', '宋', 960, 1279, 66)\n",
            "Record28: \n",
            "(1228, '計使', '轉運使', 1416, 1228, 'Liu Shi(3)', '劉時', 1072, '11', 36854, 0, 3421, 1, 0, 0, None, None, 0, None, None, None, 0, None, None, None, None, None, 0, None, None, None, 0, None, None, 'Liu', '劉', 'Shi(3)', '時', 15, 0, 'Liu(2) Shi(3) [1228] See documentation for father, Jian(5) [36854]. XNYL, 120.10b, 146.19b.', 0, 0, None, None, None, None, None, None, None, None, None, None, None, None, 'TTS', '20070312', None, None, 0, 15, 'Song', '宋', 960, 1279, 66)\n",
            "Record29: \n",
            "(1229, '發運;部使者', '發運使', 1417, 1229, 'Liu Shidao', '劉師道', 961, '01', None, 0, 100667, 1, 0, 0, None, 961, 0, None, None, 1014, 515, 7, None, 54, None, None, 0, None, None, None, 0, None, None, 'Liu', '劉', 'Shidao', '師道', 15, 17, \"Zeng(1) Qinian [7361] Gongliang's [8136] great great great grandson. His grandfather retired to Suzhou, Changshu xian. His father, Chong [3900], was buried in Suzhou, Wuxian, where this branch of the clan subsequently resided. Qinian died in Changshu, which was still considered to be a temporary residence, and was buried next to his grandmother's grave. His father-in-law was Wei(4) Jimin [7387]. Wei Jing, WJ, 18.13a; Suzhou FZ, 98.12a-12b. CBD, 4, 2830.\\x7f\", 0, 0, None, None, None, None, None, None, None, None, None, None, None, None, 'TTS', '20070312', 'BDLYH', '20081011', 1, 15, 'Song', '宋', 960, 1279, 66)\n",
            "Record30: \n",
            "(1229, '運副;副使;運使;佐漕;貳漕', '轉運副使', 1417, 1229, 'Liu Shidao', '劉師道', 961, '01', None, 0, 100667, 1, 0, 0, None, 961, 0, None, None, 1014, 515, 7, None, 54, None, None, 0, None, None, None, 0, None, None, 'Liu', '劉', 'Shidao', '師道', 15, 17, \"Zeng(1) Qinian [7361] Gongliang's [8136] great great great grandson. His grandfather retired to Suzhou, Changshu xian. His father, Chong [3900], was buried in Suzhou, Wuxian, where this branch of the clan subsequently resided. Qinian died in Changshu, which was still considered to be a temporary residence, and was buried next to his grandmother's grave. His father-in-law was Wei(4) Jimin [7387]. Wei Jing, WJ, 18.13a; Suzhou FZ, 98.12a-12b. CBD, 4, 2830.\\x7f\", 0, 0, None, None, None, None, None, None, None, None, None, None, None, None, 'TTS', '20070312', 'BDLYH', '20081011', 1, 15, 'Song', '宋', 960, 1279, 66)\n",
            "Record31: \n",
            "(1230, '計使', '轉運使', 1418, 1230, 'Liu Shu', '劉述', 1004, '05', None, 0, 12718, 1, 0, 0, None, None, 0, None, None, None, 0, None, None, 72, None, None, 0, None, None, None, 0, None, None, 'Liu', '劉', 'Shu', '述', 15, 17, \"Liu(2) Shu [1230] Uncle of Ningzhi's [1217] father, Gong [3597]. Liu(2) Anzhi [3579] (CBD, based on Zhao(1) Dingchen, has mingzi as Anzheng, thereby creating great confusion) was Wang(2) Anli's [1760] son-in-law. Anzhi's wife was the sister of Zhao(1) Dingchen's [395] wife. Shu's son-in-law, Chen(1) Shu [3082], was the father-in-law of Pan(1) Jinggui's [1386] father, Haogu [3692]. Liu Yizhi, WJ, 51.12b-15b (wife, born Fu(5), who died in 1118 at age 78 [has information on jiafa; she was well-educated at age 18--this was second marriage after marrying a Shi(4)]; Zhao Dingchen, WJ, 18.5a; XCB, 209.11b; SHY:ZG, 65.23a; SS, 321.14b-15a; Wang Zao, WJ, 25.15a; Wuxing zhi, 17.4a. CBD, 5, 3858-9.\\x7f\", 0, 0, None, None, None, None, None, None, None, None, None, None, None, None, 'TTS', '20070312', 'BDZWZ', '20081122', 1, 15, 'Song', '宋', 960, 1279, 66)\n",
            "Record32: \n",
            "(1231, '計使', '轉運使', 1419, 1231, 'Liu Shu(2)', '劉淑', 1006, '13', None, 0, 12718, 1, 0, 0, None, None, 0, None, None, None, 0, None, None, None, None, None, 0, None, None, None, 0, None, None, 'Liu', '劉', 'Shu(2)', '淑', 15, 17, \"Liu(2) Shu(2) [1231] Hu(1) Lingyi's [820] son-in-law. See also documentation for son, Dingguo [20279]. XCB, 248.12a, 372.15a-15b; SHY:ZG, 66.32b. CBD, 5, 3871.\\x7f\", 0, 0, None, None, None, None, None, None, None, None, None, None, None, None, 'TTS', '20070312', 'BDZWZ', '20081122', 1, 15, 'Song', '宋', 960, 1279, 66)\n",
            "Record33: \n",
            "(1240, '運副;副使;運使;佐漕;貳漕', '轉運副使', 1428, 1240, 'Liu Zong', '劉綜', 955, '01', None, 0, 11927, 1, 0, 0, None, 955, 0, None, None, 1015, 515, 8, None, 61, None, None, 0, None, None, None, 0, None, None, 'Liu', '劉', 'Zong', '綜', 15, 0, \"Liu(2) Zong [1240] Jianzhong's [3588] and Zhengzhong's [3592]  father, Zhuo's [3585] elder brother. Xue(1) Yi's [7109] grandfather-in-law. His maternal cousin (waixiong) was Dong(1) Zunhui [7075], which must mean that he was either the son of a sister of Zunhui's mother, who was Gao(1) Xingzhou's [18343] daughter, or the son of an aunt of Zunhui. Zong had administrative talent (licai). XCB, 45.12a, 47.20b, 24a, 48.15b, 49,8a, 50.16a, 51.5a, 52.16b, 55.1b, 57.4b, 61.2b, 21a; SS, 277.17a-17b. CBD, 5, 3892.\\x7f\", 0, 0, None, None, None, None, None, None, None, None, None, None, None, None, 'TTS', '20070312', 'BDLYH', '20081122', 1, 15, 'Song', '宋', 960, 1279, 66)\n",
            "Record34: \n",
            "(1240, '計使', '轉運使', 1428, 1240, 'Liu Zong', '劉綜', 955, '01', None, 0, 11927, 1, 0, 0, None, 955, 0, None, None, 1015, 515, 8, None, 61, None, None, 0, None, None, None, 0, None, None, 'Liu', '劉', 'Zong', '綜', 15, 0, \"Liu(2) Zong [1240] Jianzhong's [3588] and Zhengzhong's [3592]  father, Zhuo's [3585] elder brother. Xue(1) Yi's [7109] grandfather-in-law. His maternal cousin (waixiong) was Dong(1) Zunhui [7075], which must mean that he was either the son of a sister of Zunhui's mother, who was Gao(1) Xingzhou's [18343] daughter, or the son of an aunt of Zunhui. Zong had administrative talent (licai). XCB, 45.12a, 47.20b, 24a, 48.15b, 49,8a, 50.16a, 51.5a, 52.16b, 55.1b, 57.4b, 61.2b, 21a; SS, 277.17a-17b. CBD, 5, 3892.\\x7f\", 0, 0, None, None, None, None, None, None, None, None, None, None, None, None, 'TTS', '20070312', 'BDLYH', '20081122', 1, 15, 'Song', '宋', 960, 1279, 66)\n",
            "Record35: \n",
            "(1242, '計使', '轉運使', 1430, 1242, 'Liu Du', '劉度', None, '', None, 0, 0, 1, 0, 0, None, None, 0, None, None, None, 0, None, None, None, None, None, 0, None, None, None, 0, None, None, 'Liu', '劉', 'Du', '度', 15, 0, 'Liu(2) Du [1242] XCB, 23.12a-13a; SHY:SH, 49.5b.', 0, 0, None, None, None, None, None, None, None, None, None, None, None, None, 'TTS', '20070312', None, None, 0, 15, 'Song', '宋', 960, 1279, 66)\n",
            "Record36: \n",
            "(1245, '運副;副使;運使;佐漕;貳漕', '轉運副使', 1433, 1245, 'Liu Zi', '劉鎡', 1064, '05', None, 0, 100228, 1, 0, 0, None, None, 0, None, None, None, 0, None, None, None, None, None, 0, None, None, None, 0, None, None, 'Liu', '劉', 'Zi', '鎡', 15, 0, \"Liu(2) Zi [1245] Minqiu's [1211] grandfather. Fujian TZ, 147.36a; XNYL, 47.3a, 58.10a. CBD, 5, 3911.\\x7f\", 0, 0, None, None, None, None, None, None, None, None, None, None, None, None, 'TTS', '20070312', 'BDLYH', '20081122', 1, 15, 'Song', '宋', 960, 1279, 66)\n",
            "Record37: \n",
            "(1246, '計使', '轉運使', 1434, 1246, 'Liu Wei', '劉緯', 1244, '05', None, 0, 0, 1, 0, 0, None, None, 0, None, None, None, 0, None, None, None, None, None, 0, None, None, None, 0, None, None, 'Liu', '劉', 'Wei', '緯', 15, 17, 'Liu(2) Wei [1246] XCB, 171.3a. CBD, 5, 3899.\\x7f', 0, 0, None, None, None, None, None, None, None, None, None, None, None, None, 'TTS', '20070312', 'BDLYH', '20081122', 1, 15, 'Song', '宋', 960, 1279, 66)\n",
            "Record38: \n",
            "(1247, '計使', '轉運使', 1435, 1247, 'Liu Wenzhi', '劉文質', 965, '01', None, 0, 11830, 1, 0, 0, None, 965, 0, None, None, 1028, 518, 6, None, 64, None, None, 0, None, None, None, 0, None, None, 'Liu', '劉', 'Wenzhi', '文質', 15, 0, \"Liu(2) Wenzhi [1247] Military family background. Li(2) Fu(4)'s [1022] son-in-law. XCB, 41.2a; SS, 324.22a; Su Shunqin, WJ, 14.210-213. CBD, 5, 3926-7.\\x7f\", 0, 0, None, None, None, None, None, None, None, None, None, None, None, None, 'TTS', '20070312', 'BDLYH', '20081122', 1, 15, 'Song', '宋', 960, 1279, 66)\n",
            "Record39: \n",
            "(1248, '計使', '轉運使', 1436, 1248, 'Liu Wenbing', '劉文炳', None, '', None, 0, 0, 1, 0, 0, None, None, 0, None, None, None, 0, None, None, None, None, None, 0, None, None, None, 0, None, None, 'Liu', '劉', 'Wenbing', '文炳', 15, 0, 'Liu(2) Wenbing [1248] XCB, 173.3b; Guangdong TZ, 21.15b; SHY:ZG,65.9a.', 0, 0, None, None, None, None, None, None, None, None, None, None, None, None, 'TTS', '20070312', None, None, 0, 15, 'Song', '宋', 960, 1279, 66)\n",
            "Record40: \n",
            "(1252, '運副;副使;運使;佐漕;貳漕', '轉運副使', 1440, 1252, 'Liu Yanshi', '劉彥適', 1076, '05', None, 0, 13871, 1, 0, 0, None, None, 0, None, None, None, 0, None, None, None, None, None, 0, None, None, None, 0, None, None, 'Liu', '劉', 'Yanshi', '彥適', 15, 0, \"Liu(2) Yanshi [1252] Chuyue's [3586] grandson, Shen's [3559] son. XNYL, 67.8b, 76.5a; Guangxi TZ, 21.15b; Sanshan zhi, 26.14b; Fujian TZ, 148.5a. CBD, 5, 3966.\\x7f\", 0, 0, None, None, None, None, None, None, None, None, None, None, None, None, 'TTS', '20070312', 'BDLYH', '20081011', 1, 15, 'Song', '宋', 960, 1279, 66)\n",
            "Record41: \n",
            "(1254, '運副;副使;運使;佐漕;貳漕', '轉運副使', 1442, 1254, 'Liu Yu(2)', '劉昱', 1034, '01', None, 0, 11523, 1, 0, 0, None, 1034, 0, None, None, 1114, 536, 4, None, 81, None, None, 0, None, None, None, 0, None, None, 'Liu', '劉', 'Yu(2)', '昱', 15, 0, \"Liu(2) Yu(2) [1254] None of the patrilineal ancestors of the previous three generations held office. Minzhan's [1212] father. XCB, 364.17a, 385.16a, 447.1a, 457.3a; Liu Ban, WJ, 19.3a; Bi Zhongyou, WJ, 13.18b-23b; SHY:SH, 49.22b. CBD, 5, 3860-1.\\x7f\", 0, 0, None, None, None, None, None, None, None, None, None, None, None, None, 'TTS', '20070312', 'BDZWZ', '20081122', 1, 15, 'Song', '宋', 960, 1279, 66)\n",
            "Record42: \n",
            "(3591, '計使', '轉運使', 2837, 3591, 'Liu Zhensun', '劉震孫', 1205, '29', None, 0, 18935, 1, 0, 0, None, None, 0, None, None, 1268, 558, 4, None, None, None, None, 0, None, None, None, 0, None, None, 'Liu', '劉', 'Zhensun', '震孫', 15, 51, \"Liu(2) Zhensun [3591] Guangdong TZ, 16.13a. CBD, 5, 3991.From Hartwell's ACTIVITY table:1255:  Apt. Guangnan Dong tiju. \\x7f有關劉震孫行跡，參見向以鮮《超越江湖的詩人》。\\x7f\\x7f\", 0, 0, None, None, None, None, None, None, None, None, None, None, None, None, 'TTS', '20070312', 'BDLYH', '20081011', 1, 15, 'Song', '宋', 960, 1279, 66)\n",
            "Record43: \n",
            "(3595, '計使', '轉運使', 2841, 3595, 'Liu Kezhuang', '劉克莊', 1187, '01', None, 0, 100531, 1, 0, 0, None, 1187, 0, None, None, 1269, 558, 5, None, 83, None, None, 0, None, None, None, 0, None, None, 'Liu', '劉', 'Kezhuang', '克莊', 15, 0, \"Liu(2) Kezhuang [3595] Fujian TZ, 150.20a. For calling received from Zhen(1) Dexiu [10258], see documentation for Li Yu(16) [19790]. Liu Kezhuang, WJ, 148.16a-17b (wife, born Lin, who died in 1228 at age 39), 161.10a-10b (apparently a concubine, born Lin, who was the mother of his #3 son, Shanfu [not in dataset], and who died in 1262 at age 55), 194.1a-20a, 195.1a-10b, 196.1a-2b; Guangdong TZ, 16.11b, 12b. CBD, 5, 3949-50.From Hartwell's ACTIVITY table:1240:  Apt. Guangnan Dong tiju and Guangnan Dong yunpan\\x7f\", 0, 0, None, None, None, None, None, None, None, None, None, None, None, None, 'TTS', '20070312', 'BDLYH', '20081011', 1, 15, 'Song', '宋', 960, 1279, 66)\n",
            "Record44: \n",
            "(11811, '計使', '轉運使', 6306, 11811, 'Liu Jia', '劉韐', 1067, '01', None, 0, 13894, 1, 0, 0, None, 1067, 0, None, None, 1127, 0, None, None, 61, None, None, 0, None, None, None, 0, None, None, 'Liu', '劉', 'Jia', '韐', 15, 29, 'Liu(2) Jia [11811] In the 2nd month of 1127, after the Jin took Kaifeng, instead of taking a postition in their administration, he consumed some wine and strangled himself to death. Fujian TZ, 2147.36a. CBD, 5, 3896-7.\\x7f', 0, 0, None, None, None, None, None, None, None, None, None, None, None, None, 'TTS', '20070312', 'BDLYH', '20081122', 1, 15, 'Song', '宋', 960, 1279, 66)\n",
            "Record45: \n",
            "(12071, '運副;副使;運使;佐漕;貳漕', '轉運副使', 6565, 12071, 'Liu Yinglong', '劉應龍', 1208, '05', None, 0, 100633, 1, 0, 0, None, None, 0, None, None, None, 0, None, None, None, None, None, 0, None, None, None, 0, None, None, 'Liu', '劉', 'Yinglong', '應龍', 15, 0, \"Liu(2) Yinglong [12071] Jiangxi TZ, 11.3a; Guangdong TZ, 16.11b. See documentation for father-in-law Wei(4) Zao [12058]. CBD, 5, 3997.From Hartwell's ACTIVITY table:1262:  Apt. Prefect of Nanchang concurrently Jiangxi yufu (sic. pan ?).1264:  Apt. Guangdong yunpan.\\x7f\", 0, 0, None, None, None, None, None, None, None, None, None, None, None, None, 'TTS', '20070312', 'BDLYH', '20081011', 1, 15, 'Song', '宋', 960, 1279, 66)\n",
            "Record46: \n",
            "(20236, '計使', '轉運使', 14565, 20236, 'Liu Ying(3)', '劉穎', 1136, '01', None, 0, 12800, 1, 0, 0, None, 1136, 0, None, None, 1213, 549, 6, None, 78, None, None, 0, None, None, None, 0, None, None, 'Liu', '劉', 'Ying(3)', '穎', 15, 0, \"Liu(2) Ying(3) [20236] Zhejiang TZ, 125.19b; Ye Shi, WJ, 20.384-88; SHY:ZG, 72.51a; Jiangxi TZ, 11.23b; Chen Fuliang, WJ, 18.1b, 2b. CBD, 5, 3901.From Hartwell's ACTIVITY table:1189:  In office as Jiangnan Xi yunpan1194:  Apt. Jiangnan Dong yunpan\\x7f\", 0, 0, None, None, None, None, None, None, None, None, None, None, None, None, 'TTS', '20070312', 'BDLYH', '20081122', 1, 15, 'Song', '宋', 960, 1279, 66)\n",
            "Record47: \n",
            "(20339, '計使', '轉運使', 14668, 20339, 'Liu Pan(2)', '劉槃', None, '', None, 0, 12953, 1, 0, 0, None, None, 0, None, None, None, 0, None, None, None, None, None, 0, None, None, None, 0, None, None, 'Liu', '劉', 'Pan(2)', '槃', 15, 0, \"Liu(2) Pan(2) [20339] Jiangxi TZ, 11.21b.From Hartwell's ACTIVITY table:1275:  In office as prefect of Hongzhou and JIangnan Xi yunshi\", 0, 0, None, None, None, None, None, None, None, None, None, None, None, None, 'TTS', '20070312', None, None, 0, 15, 'Song', '宋', 960, 1279, 66)\n",
            "Record48: \n",
            "(51824, '計使', '轉運使', 45889, 51824, 'Liu Shi', '劉適', None, '', None, 0, None, None, 0, 0, None, None, 0, None, None, None, 0, None, None, None, None, None, 0, None, None, None, 0, None, None, 'Liu', '劉', 'Shi', '適', 15, 0, None, 0, 0, None, None, None, None, None, None, None, None, None, None, None, None, 'load', '20090226', None, None, 0, 15, 'Song', '宋', 960, 1279, 66)\n",
            "Record49: \n",
            "(51965, '運副;副使;運使;佐漕;貳漕', '轉運副使', 46029, 51965, 'Liu Zhiyan', '劉志彥', None, '', None, 0, None, None, 0, 0, None, None, 0, None, None, None, 0, None, None, None, None, None, 0, None, None, None, 0, None, None, 'Liu', '劉', 'Zhiyan', '志彥', 15, 0, None, 0, 0, None, None, None, None, None, None, None, None, None, None, None, None, 'load', '20090226', None, None, 0, 15, 'Song', '宋', 960, 1279, 66)\n",
            "Record50: \n",
            "(479095, '計使', '轉運使', None, 479095, 'Liu Zhao', '劉炤', None, '', None, 0, None, None, None, None, '', None, None, None, None, None, None, None, None, None, None, None, None, None, '', None, None, None, '', 'Liu', '劉', 'Zhao', '炤', 15, None, '', 0, 0, None, None, None, None, None, None, '', '', '', '', '', '', 'load', '20200515', '', '', 1, 15, 'Song', '宋', 960, 1279, 66)\n",
            "Record51: \n",
            "(479126, '計使', '轉運使', None, 479126, 'Liu Mou', '劉某', None, '', None, 0, None, None, None, None, '', None, None, None, None, None, None, None, None, None, None, None, None, None, '', None, None, None, '', 'Liu', '劉', 'Mou', '某', 15, None, '', 0, 0, None, None, None, None, None, None, '', '', '', '', '', '', 'load', '20200515', '', '', 1, 15, 'Song', '宋', 960, 1279, 66)\n",
            "Record52: \n",
            "(498616, '計使', '轉運使', None, 498616, 'Liu Jin', '劉瑾', None, '', None, 0, None, None, None, None, '', None, None, None, None, None, None, None, None, None, None, None, None, None, '', None, None, None, '', 'Liu', '劉', 'Jin', '瑾', 15, None, '', 0, 0, None, None, None, None, None, None, '', '', '', '', '', '', 'load', '20200515', '', '', 1, 15, 'Song', '宋', 960, 1279, 66)\n"
          ]
        }
      ]
    }
  ]
}